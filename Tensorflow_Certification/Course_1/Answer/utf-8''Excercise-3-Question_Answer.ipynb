{
 "cells": [
  {
   "cell_type": "markdown",
   "metadata": {
    "colab_type": "text",
    "id": "iQjHqsmTAVLU"
   },
   "source": [
    "## Exercise 3\n",
    "In the videos you looked at how you would improve Fashion MNIST using Convolutions. For your exercise see if you can improve MNIST to 99.8% accuracy or more using only a single convolutional layer and a single MaxPooling 2D. You should stop training once the accuracy goes above this amount. It should happen in less than 20 epochs, so it's ok to hard code the number of epochs for training, but your training must end once it hits the above metric. If it doesn't, then you'll need to redesign your layers.\n",
    "\n",
    "I've started the code for you -- you need to finish it!\n",
    "\n",
    "When 99.8% accuracy has been hit, you should print out the string \"Reached 99.8% accuracy so cancelling training!\"\n"
   ]
  },
  {
   "cell_type": "code",
   "execution_count": 1,
   "metadata": {},
   "outputs": [],
   "source": [
    "import tensorflow as tf\n",
    "from os import path, getcwd, chdir\n",
    "\n",
    "# DO NOT CHANGE THE LINE BELOW. If you are developing in a local\n",
    "# environment, then grab mnist.npz from the Coursera Jupyter Notebook\n",
    "# and place it inside a local folder and edit the path to that location\n",
    "path = f\"{getcwd()}/../tmp2/mnist.npz\""
   ]
  },
  {
   "cell_type": "code",
   "execution_count": 2,
   "metadata": {},
   "outputs": [],
   "source": [
    "config = tf.ConfigProto()\n",
    "config.gpu_options.allow_growth = True\n",
    "sess = tf.Session(config=config)"
   ]
  },
  {
   "cell_type": "code",
   "execution_count": 3,
   "metadata": {},
   "outputs": [],
   "source": [
    "# GRADED FUNCTION: train_mnist_conv\n",
    "def train_mnist_conv():\n",
    "    # Please write your code only where you are indicated.\n",
    "    # please do not remove model fitting inline comments.\n",
    "\n",
    "    # YOUR CODE STARTS HERE\n",
    "    class myCallback(tf.keras.callbacks.Callback):\n",
    "        def on_epoch_end(self, epoch, logs={}):\n",
    "            if(logs.get('acc') > .998):\n",
    "                print(\"\\nReached 99.8% accuracy so cancelling training!\")\n",
    "                self.model.stop_training = True\n",
    "    callbacks = myCallback() \n",
    "    # YOUR CODE ENDS HERE\n",
    "\n",
    "    mnist = tf.keras.datasets.mnist\n",
    "    (training_images, training_labels), (test_images, test_labels) = mnist.load_data(path=path)\n",
    "    # YOUR CODE STARTS HERE\n",
    "    training_images=training_images.reshape(60000, 28, 28, 1)\n",
    "    training_images=training_images / 255.0\n",
    "    test_images = test_images.reshape(10000, 28, 28, 1)\n",
    "    test_images=test_images/255.0\n",
    "    # YOUR CODE ENDS HERE\n",
    "\n",
    "    model = tf.keras.models.Sequential([\n",
    "        tf.keras.layers.Conv2D(32, (3,3), activation='relu', input_shape=(28, 28, 1)),\n",
    "        tf.keras.layers.MaxPooling2D(2, 2),\n",
    "            \n",
    "        tf.keras.layers.Conv2D(64, (3,3), activation='relu'),\n",
    "        tf.keras.layers.MaxPooling2D(2,2),\n",
    "        \n",
    "        tf.keras.layers.Flatten(),\n",
    "        tf.keras.layers.Dense(128, activation='relu'),\n",
    "        tf.keras.layers.Dense(10, activation='softmax')\n",
    "        # YOUR CODE ENDS HERE\n",
    "    ])\n",
    "\n",
    "    model.compile(optimizer='adam', loss='sparse_categorical_crossentropy', metrics=['accuracy'])\n",
    "    # model fitting\n",
    "    history = model.fit(\n",
    "        # YOUR CODE STARTS HERE\n",
    "        training_images, training_labels, epochs=19\n",
    "        \n",
    "        # YOUR CODE ENDS HERE\n",
    "    )\n",
    "    # model fitting\n",
    "    return history.epoch, history.history['acc'][-1]\n"
   ]
  },
  {
   "cell_type": "code",
   "execution_count": 4,
   "metadata": {},
   "outputs": [
    {
     "name": "stderr",
     "output_type": "stream",
     "text": [
      "WARNING: Logging before flag parsing goes to stderr.\n",
      "W0520 07:03:37.198375 140405859141440 deprecation.py:506] From /usr/local/lib/python3.6/dist-packages/tensorflow/python/ops/init_ops.py:1251: calling VarianceScaling.__init__ (from tensorflow.python.ops.init_ops) with dtype is deprecated and will be removed in a future version.\n",
      "Instructions for updating:\n",
      "Call initializer instance with the dtype argument instead of passing it to the constructor\n"
     ]
    },
    {
     "name": "stdout",
     "output_type": "stream",
     "text": [
      "Epoch 1/19\n",
      "60000/60000 [==============================] - 20s 327us/sample - loss: 0.1326 - acc: 0.9580 - loss: 0.1486 - acc:  - ETA: 2s - lo\n",
      "Epoch 2/19\n",
      "60000/60000 [==============================] - 16s 270us/sample - loss: 0.0424 - acc: 0.9868\n",
      "Epoch 3/19\n",
      "60000/60000 [==============================] - 16s 265us/sample - loss: 0.0288 - acc: 0.9909\n",
      "Epoch 4/19\n",
      "60000/60000 [==============================] - 16s 268us/sample - loss: 0.0198 - acc: 0.9939\n",
      "Epoch 5/19\n",
      "60000/60000 [==============================] - 16s 263us/sample - loss: 0.0151 - acc: 0.9951\n",
      "Epoch 6/19\n",
      "60000/60000 [==============================] - 16s 265us/sample - loss: 0.0120 - acc: 0.9959\n",
      "Epoch 7/19\n",
      "60000/60000 [==============================] - 16s 265us/sample - loss: 0.0098 - acc: 0.9967\n",
      "Epoch 8/19\n",
      "60000/60000 [==============================] - 15s 257us/sample - loss: 0.0077 - acc: 0.9973\n",
      "Epoch 9/19\n",
      "60000/60000 [==============================] - 15s 250us/sample - loss: 0.0083 - acc: 0.9973\n",
      "Epoch 10/19\n",
      "60000/60000 [==============================] - 15s 257us/sample - loss: 0.0053 - acc: 0.9980\n",
      "Epoch 11/19\n",
      "60000/60000 [==============================] - 16s 260us/sample - loss: 0.0053 - acc: 0.9984\n",
      "Epoch 12/19\n",
      "60000/60000 [==============================] - 16s 262us/sample - loss: 0.0050 - acc: 0.9983\n",
      "Epoch 13/19\n",
      "60000/60000 [==============================] - 15s 255us/sample - loss: 0.0041 - acc: 0.9985\n",
      "Epoch 14/19\n",
      "60000/60000 [==============================] - 16s 265us/sample - loss: 0.0043 - acc: 0.9987\n",
      "Epoch 15/19\n",
      "60000/60000 [==============================] - 16s 260us/sample - loss: 0.0037 - acc: 0.9988\n",
      "Epoch 16/19\n",
      "60000/60000 [==============================] - 16s 260us/sample - loss: 0.0038 - acc: 0.9987\n",
      "Epoch 17/19\n",
      "60000/60000 [==============================] - 15s 256us/sample - loss: 0.0032 - acc: 0.9989\n",
      "Epoch 18/19\n",
      "60000/60000 [==============================] - 15s 257us/sample - loss: 0.0037 - acc: 0.9988\n",
      "Epoch 19/19\n",
      "60000/60000 [==============================] - 16s 264us/sample - loss: 0.0029 - acc: 0.9991\n"
     ]
    }
   ],
   "source": [
    "_, _ = train_mnist_conv()"
   ]
  },
  {
   "cell_type": "code",
   "execution_count": null,
   "metadata": {},
   "outputs": [],
   "source": [
    "# Now click the 'Submit Assignment' button above.\n",
    "# Once that is complete, please run the following two cells to save your work and close the notebook"
   ]
  },
  {
   "cell_type": "code",
   "execution_count": null,
   "metadata": {},
   "outputs": [],
   "source": []
  },
  {
   "cell_type": "code",
   "execution_count": null,
   "metadata": {},
   "outputs": [],
   "source": []
  }
 ],
 "metadata": {
  "coursera": {
   "course_slug": "introduction-tensorflow",
   "graded_item_id": "ml06H",
   "launcher_item_id": "hQF8A"
  },
  "kernelspec": {
   "display_name": "Python 3",
   "language": "python",
   "name": "python3"
  },
  "language_info": {
   "codemirror_mode": {
    "name": "ipython",
    "version": 3
   },
   "file_extension": ".py",
   "mimetype": "text/x-python",
   "name": "python",
   "nbconvert_exporter": "python",
   "pygments_lexer": "ipython3",
   "version": "3.6.8"
  }
 },
 "nbformat": 4,
 "nbformat_minor": 1
}
