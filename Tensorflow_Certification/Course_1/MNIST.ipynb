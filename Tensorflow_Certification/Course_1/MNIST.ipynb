{
  "nbformat": 4,
  "nbformat_minor": 0,
  "metadata": {
    "colab": {
      "name": "MNIST.ipynb",
      "provenance": [],
      "authorship_tag": "ABX9TyMOhwEqaw+zKkKi+EvadUDE",
      "include_colab_link": true
    },
    "kernelspec": {
      "name": "python3",
      "display_name": "Python 3"
    },
    "accelerator": "GPU"
  },
  "cells": [
    {
      "cell_type": "markdown",
      "metadata": {
        "id": "view-in-github",
        "colab_type": "text"
      },
      "source": [
        "<a href=\"https://colab.research.google.com/github/YunaSon/Tensorflow_Certification/blob/master/Course_1/MNIST.ipynb\" target=\"_parent\"><img src=\"https://colab.research.google.com/assets/colab-badge.svg\" alt=\"Open In Colab\"/></a>"
      ]
    },
    {
      "cell_type": "code",
      "metadata": {
        "id": "KfqeeVSc9jnb",
        "colab_type": "code",
        "outputId": "cd25b847-9848-46e8-decd-fd51bdb9a5a0",
        "colab": {
          "base_uri": "https://localhost:8080/",
          "height": 36
        }
      },
      "source": [
        "import keras"
      ],
      "execution_count": 0,
      "outputs": [
        {
          "output_type": "stream",
          "text": [
            "Using TensorFlow backend.\n"
          ],
          "name": "stderr"
        }
      ]
    },
    {
      "cell_type": "code",
      "metadata": {
        "id": "t9RpZzfd9oBi",
        "colab_type": "code",
        "outputId": "b6c031e8-bfcc-4dab-8e69-aa964f0391ff",
        "colab": {
          "base_uri": "https://localhost:8080/",
          "height": 94
        }
      },
      "source": [
        "from keras.datasets import mnist\n",
        "\n",
        "(train_images, train_labels), (test_images, test_labels) = mnist.load_data()\n",
        "print (train_images.shape) \n",
        "print (train_labels)"
      ],
      "execution_count": 0,
      "outputs": [
        {
          "output_type": "stream",
          "text": [
            "Downloading data from https://s3.amazonaws.com/img-datasets/mnist.npz\n",
            "11493376/11490434 [==============================] - 1s 0us/step\n",
            "(60000, 28, 28)\n",
            "[5 0 4 ... 5 6 8]\n"
          ],
          "name": "stdout"
        }
      ]
    },
    {
      "cell_type": "code",
      "metadata": {
        "id": "n8ffTqBo9yHG",
        "colab_type": "code",
        "outputId": "718639b1-2f9c-4963-89b2-3125cab8cb99",
        "colab": {
          "base_uri": "https://localhost:8080/",
          "height": 285
        }
      },
      "source": [
        "import matplotlib.pyplot as plt\n",
        "digit = train_images[1]\n",
        "plt.imshow(digit, cmap=plt.cm.binary)\n",
        "plt.show()\n",
        "print (train_labels[1])"
      ],
      "execution_count": 0,
      "outputs": [
        {
          "output_type": "display_data",
          "data": {
            "image/png": "[encoded data removed]",
            "text/plain": [
              "<Figure size 432x288 with 1 Axes>"
            ]
          },
          "metadata": {
            "tags": [],
            "needs_background": "light"
          }
        },
        {
          "output_type": "stream",
          "text": [
            "0\n"
          ],
          "name": "stdout"
        }
      ]
    },
    {
      "cell_type": "markdown",
      "metadata": {
        "id": "vZeMevyC97aI",
        "colab_type": "text"
      },
      "source": [
        "신경망 구조"
      ]
    },
    {
      "cell_type": "code",
      "metadata": {
        "id": "AOW9USfQ90Ki",
        "colab_type": "code",
        "colab": {}
      },
      "source": [
        "from keras import models\n",
        "from keras import layers\n",
        "\n",
        "network = models.Sequential()\n",
        "network.add(layers.Dense(512, activation='relu', input_shape=(28 * 28,)))\n",
        "network.add(layers.Dense(10, activation='softmax'))"
      ],
      "execution_count": 0,
      "outputs": []
    },
    {
      "cell_type": "markdown",
      "metadata": {
        "id": "8AlLz79u-BJK",
        "colab_type": "text"
      },
      "source": [
        "컴파일\n",
        " - loss function\n",
        " - optimizer\n",
        " - 지표: \"정확도\""
      ]
    },
    {
      "cell_type": "code",
      "metadata": {
        "id": "VnsPy8Rf911Q",
        "colab_type": "code",
        "colab": {}
      },
      "source": [
        "network.compile(optimizer='rmsprop',\n",
        "                loss='categorical_crossentropy',\n",
        "                metrics=['accuracy'])"
      ],
      "execution_count": 0,
      "outputs": []
    },
    {
      "cell_type": "markdown",
      "metadata": {
        "id": "PyfrLsFW-jrB",
        "colab_type": "text"
      },
      "source": [
        "이미지 데이터 준비하기 "
      ]
    },
    {
      "cell_type": "code",
      "metadata": {
        "id": "FNUDwcdZ-Jyd",
        "colab_type": "code",
        "colab": {}
      },
      "source": [
        "train_images = train_images.reshape((60000, 28 * 28))\n",
        "train_images = train_images.astype('float32') /255\n",
        "\n",
        "test_images = test_images.reshape((10000, 28*28))\n",
        "test_images = test_images.astype('float32') / 255"
      ],
      "execution_count": 0,
      "outputs": []
    },
    {
      "cell_type": "markdown",
      "metadata": {
        "id": "vl3Vx_aj-sZk",
        "colab_type": "text"
      },
      "source": [
        "레이블 준비하기 "
      ]
    },
    {
      "cell_type": "code",
      "metadata": {
        "id": "NVWy6YZw-tye",
        "colab_type": "code",
        "colab": {}
      },
      "source": [
        "from keras.utils import to_categorical\n",
        "\n",
        "train_labels = to_categorical(train_labels)\n",
        "test_labels = to_categorical(test_labels)"
      ],
      "execution_count": 0,
      "outputs": []
    },
    {
      "cell_type": "markdown",
      "metadata": {
        "id": "iBcilSEb-67S",
        "colab_type": "text"
      },
      "source": [
        "훈련 시키기"
      ]
    },
    {
      "cell_type": "code",
      "metadata": {
        "id": "6PXwii73-9HX",
        "colab_type": "code",
        "outputId": "89eb416f-b735-4670-8e28-dcb0618095e6",
        "colab": {
          "base_uri": "https://localhost:8080/",
          "height": 231
        }
      },
      "source": [
        "network.fit(train_images, train_labels, epochs=5, batch_size=128)"
      ],
      "execution_count": 0,
      "outputs": [
        {
          "output_type": "stream",
          "text": [
            "Epoch 1/5\n",
            "60000/60000 [==============================] - 3s 45us/step - loss: 1.4774 - accuracy: 0.6687\n",
            "Epoch 2/5\n",
            "60000/60000 [==============================] - 1s 18us/step - loss: 0.5872 - accuracy: 0.8530\n",
            "Epoch 3/5\n",
            "60000/60000 [==============================] - 1s 19us/step - loss: 0.4110 - accuracy: 0.8892\n",
            "Epoch 4/5\n",
            "60000/60000 [==============================] - 1s 19us/step - loss: 0.3534 - accuracy: 0.9010\n",
            "Epoch 5/5\n",
            "60000/60000 [==============================] - 1s 18us/step - loss: 0.3239 - accuracy: 0.9079\n"
          ],
          "name": "stdout"
        },
        {
          "output_type": "execute_result",
          "data": {
            "text/plain": [
              "<keras.callbacks.callbacks.History at 0x7fc53a7ede48>"
            ]
          },
          "metadata": {
            "tags": []
          },
          "execution_count": 10
        }
      ]
    },
    {
      "cell_type": "code",
      "metadata": {
        "id": "BfNvYUK7_CSy",
        "colab_type": "code",
        "outputId": "3a173374-69a8-4639-df43-74cb8aaaf805",
        "colab": {
          "base_uri": "https://localhost:8080/",
          "height": 36
        }
      },
      "source": [
        "test_loss, test_acc = network.evaluate(test_images, test_labels)"
      ],
      "execution_count": 0,
      "outputs": [
        {
          "output_type": "stream",
          "text": [
            "10000/10000 [==============================] - 0s 45us/step\n"
          ],
          "name": "stdout"
        }
      ]
    },
    {
      "cell_type": "code",
      "metadata": {
        "id": "sPOoi_jw_I-U",
        "colab_type": "code",
        "outputId": "780036bf-90cd-4529-a22a-9fe446225f3b",
        "colab": {
          "base_uri": "https://localhost:8080/",
          "height": 36
        }
      },
      "source": [
        "print('test_accL', test_acc)"
      ],
      "execution_count": 0,
      "outputs": [
        {
          "output_type": "stream",
          "text": [
            "test_accL 0.9122999906539917\n"
          ],
          "name": "stdout"
        }
      ]
    },
    {
      "cell_type": "code",
      "metadata": {
        "id": "6d19XDh__MBy",
        "colab_type": "code",
        "colab": {}
      },
      "source": [
        ""
      ],
      "execution_count": 0,
      "outputs": []
    }
  ]
}