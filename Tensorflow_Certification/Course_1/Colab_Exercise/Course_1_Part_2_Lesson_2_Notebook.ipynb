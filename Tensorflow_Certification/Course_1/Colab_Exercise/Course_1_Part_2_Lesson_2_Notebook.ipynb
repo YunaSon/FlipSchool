{
  "nbformat": 4,
  "nbformat_minor": 0,
  "metadata": {
    "colab": {
      "name": "Course 1 - Part 2 - Lesson 2 - Notebook.ipynb",
      "provenance": [],
      "toc_visible": true,
      "include_colab_link": true
    },
    "kernelspec": {
      "display_name": "Python 3",
      "name": "python3"
    }
  },
  "cells": [
    {
      "cell_type": "markdown",
      "metadata": {
        "id": "view-in-github",
        "colab_type": "text"
      },
      "source": [
        "<a href=\"https://colab.research.google.com/github/YunaSon/Tensorflow_Certification/blob/master/Course_1_Part_2_Lesson_2_Notebook.ipynb\" target=\"_parent\"><img src=\"https://colab.research.google.com/assets/colab-badge.svg\" alt=\"Open In Colab\"/></a>"
      ]
    },
    {
      "cell_type": "markdown",
      "metadata": {
        "colab_type": "text",
        "id": "rX8mhOLljYeM"
      },
      "source": [
        "##### Copyright 2019 The TensorFlow Authors."
      ]
    },
    {
      "cell_type": "code",
      "metadata": {
        "cellView": "form",
        "colab_type": "code",
        "id": "BZSlp3DAjdYf",
        "colab": {}
      },
      "source": [
        "#@title Licensed under the Apache License, Version 2.0 (the \"License\");\n",
        "# you may not use this file except in compliance with the License.\n",
        "# You may obtain a copy of the License at\n",
        "#\n",
        "# https://www.apache.org/licenses/LICENSE-2.0\n",
        "#\n",
        "# Unless required by applicable law or agreed to in writing, software\n",
        "# distributed under the License is distributed on an \"AS IS\" BASIS,\n",
        "# WITHOUT WARRANTIES OR CONDITIONS OF ANY KIND, either express or implied.\n",
        "# See the License for the specific language governing permissions and\n",
        "# limitations under the License."
      ],
      "execution_count": 0,
      "outputs": []
    },
    {
      "cell_type": "markdown",
      "metadata": {
        "colab_type": "text",
        "id": "ZIAkIlfmCe1B"
      },
      "source": [
        "# The Hello World of Deep Learning with Neural Networks"
      ]
    },
    {
      "cell_type": "markdown",
      "metadata": {
        "colab_type": "text",
        "id": "fA93WUy1zzWf"
      },
      "source": [
        "Like every first app you should start with something super simple that shows the overall scaffolding for how your code works. \n",
        "\n",
        "In the case of creating neural networks, the sample I like to use is one where it learns the relationship between two numbers. So, for example, if you were writing code for a function like this, you already know the 'rules' — \n",
        "\n",
        "\n",
        "```\n",
        "float hw_function(float x){\n",
        "    float y = (2 * x) - 1;\n",
        "    return y;\n",
        "}\n",
        "```\n",
        "\n",
        "So how would you train a neural network to do the equivalent task? Using data! By feeding it with a set of Xs, and a set of Ys, it should be able to figure out the relationship between them. \n",
        "\n",
        "This is obviously a very different paradigm than what you might be used to, so let's step through it piece by piece.\n"
      ]
    },
    {
      "cell_type": "markdown",
      "metadata": {
        "colab_type": "text",
        "id": "DzbtdRcZDO9B"
      },
      "source": [
        "## Imports\n",
        "\n",
        "Let's start with our imports. Here we are importing TensorFlow and calling it tf for ease of use.\n",
        "\n",
        "We then import a library called numpy, which helps us to represent our data as lists easily and quickly.\n",
        "\n",
        "The framework for defining a neural network as a set of Sequential layers is called keras, so we import that too."
      ]
    },
    {
      "cell_type": "code",
      "metadata": {
        "colab_type": "code",
        "id": "X9uIpOS2zx7k",
        "colab": {}
      },
      "source": [
        "import tensorflow as tf\n",
        "import numpy as np\n",
        "from tensorflow import keras"
      ],
      "execution_count": 0,
      "outputs": []
    },
    {
      "cell_type": "markdown",
      "metadata": {
        "colab_type": "text",
        "id": "wwJGmDrQ0EoB"
      },
      "source": [
        "## Define and Compile the Neural Network\n",
        "\n",
        "Next we will create the simplest possible neural network. It has 1 layer, and that layer has 1 neuron, and the input shape to it is just 1 value."
      ]
    },
    {
      "cell_type": "code",
      "metadata": {
        "colab_type": "code",
        "id": "kQFAr_xo0M4T",
        "colab": {
          "base_uri": "https://localhost:8080/",
          "height": 36
        },
        "outputId": "a188f3cf-5378-4706-82f2-0e203fa2ee57"
      },
      "source": [
        "model = tf.keras.Sequential([keras.layers.Dense(units=1, input_shape=[1])])\n",
        "model"
      ],
      "execution_count": 16,
      "outputs": [
        {
          "output_type": "execute_result",
          "data": {
            "text/plain": [
              "<tensorflow.python.keras.engine.sequential.Sequential at 0x7fc1d94a2048>"
            ]
          },
          "metadata": {
            "tags": []
          },
          "execution_count": 16
        }
      ]
    },
    {
      "cell_type": "markdown",
      "metadata": {
        "id": "VUfmWTnc7B9B",
        "colab_type": "text"
      },
      "source": [
        "<font color = red>컴파일 뉴럴 네트워크 구성하기 위해 구체화하는 2가지: loss, optimizer </font>"
      ]
    },
    {
      "cell_type": "markdown",
      "metadata": {
        "colab_type": "text",
        "id": "KhjZjZ-c0Ok9"
      },
      "source": [
        "Now we compile our Neural Network. When we do so, we have to specify 2 functions, a loss and an optimizer.\n",
        "\n",
        "If you've seen lots of math for machine learning, here's where it's usually used, but in this case it's nicely encapsulated in functions for you. But what happens here — let's explain...\n",
        "\n",
        "We know that in our function, the relationship between the numbers is y=2x-1. \n",
        "\n",
        "When the computer is trying to 'learn' that, it makes a guess...maybe y=10x+10. The LOSS function measures the guessed answers against the known correct answers and measures how well or how badly it did.\n",
        "\n",
        "It then uses the OPTIMIZER function to make another guess. Based on how the loss function went, it will try to minimize the loss. At that point maybe it will come up with somehting like y=5x+5, which, while still pretty bad, is closer to the correct result (i.e. the loss is lower)\n",
        "\n",
        "It will repeat this for the number of EPOCHS which you will see shortly. But first, here's how we tell it to use 'MEAN SQUARED ERROR' for the loss and 'STOCHASTIC GRADIENT DESCENT' for the optimizer. You don't need to understand the math for these yet, but you can see that they work! :)\n",
        "\n",
        "Over time you will learn the different and appropriate loss and optimizer functions for different scenarios. \n"
      ]
    },
    {
      "cell_type": "code",
      "metadata": {
        "colab_type": "code",
        "id": "m8YQN1H41L-Y",
        "colab": {
          "base_uri": "https://localhost:8080/",
          "height": 36
        },
        "outputId": "0c3d6e33-3f8a-40db-a348-3d3c335835ea"
      },
      "source": [
        "model.compile(optimizer='sgd', loss='mean_squared_error')\n",
        "print(model.compile(optimizer='sgd', loss='mean_squared_error'))"
      ],
      "execution_count": 17,
      "outputs": [
        {
          "output_type": "stream",
          "text": [
            "None\n"
          ],
          "name": "stdout"
        }
      ]
    },
    {
      "cell_type": "markdown",
      "metadata": {
        "colab_type": "text",
        "id": "5QyOUhFw1OUX"
      },
      "source": [
        "## Providing the Data\n",
        "\n",
        "Next up we'll feed in some data. In this case we are taking 6 xs and 6ys. You can see that the relationship between these is that y=2x-1, so where x = -1, y=-3 etc. etc. \n",
        "\n",
        "A python library called 'Numpy' provides lots of array type data structures that are a defacto standard way of doing it. We declare that we want to use these by specifying the values as an np.array[]"
      ]
    },
    {
      "cell_type": "code",
      "metadata": {
        "colab_type": "code",
        "id": "4Dxk4q-jzEy4",
        "colab": {}
      },
      "source": [
        "xs = np.array([-1.0,  0.0, 1.0, 2.0, 3.0, 4.0], dtype=float)\n",
        "ys = np.array([-3.0, -1.0, 1.0, 3.0, 5.0, 7.0], dtype=float)"
      ],
      "execution_count": 0,
      "outputs": []
    },
    {
      "cell_type": "markdown",
      "metadata": {
        "colab_type": "text",
        "id": "n_YcWRElnM_b"
      },
      "source": [
        "# Training the Neural Network"
      ]
    },
    {
      "cell_type": "markdown",
      "metadata": {
        "colab_type": "text",
        "id": "c-Jk4dG91dvD"
      },
      "source": [
        "The process of training the neural network, where it 'learns' the relationship between the Xs and Ys is in the **model.fit**  call. This is where it will go through the loop we spoke about above, making a guess, measuring how good or bad it is (aka the loss), using the opimizer to make another guess etc. It will do it for the number of epochs you specify. When you run this code, you'll see the loss on the right hand side."
      ]
    },
    {
      "cell_type": "code",
      "metadata": {
        "colab_type": "code",
        "id": "lpRrl7WK10Pq",
        "colab": {
          "base_uri": "https://localhost:8080/",
          "height": 426
        },
        "outputId": "dccd66c3-7e74-4a3c-d9ab-051754cf6c48"
      },
      "source": [
        "model.fit(xs, ys, epochs=10) #defalt: 500"
      ],
      "execution_count": 19,
      "outputs": [
        {
          "output_type": "stream",
          "text": [
            "Epoch 1/10\n",
            "1/1 [==============================] - 0s 1ms/step - loss: 44.2231\n",
            "Epoch 2/10\n",
            "1/1 [==============================] - 0s 2ms/step - loss: 35.1643\n",
            "Epoch 3/10\n",
            "1/1 [==============================] - 0s 991us/step - loss: 28.0297\n",
            "Epoch 4/10\n",
            "1/1 [==============================] - 0s 2ms/step - loss: 22.4090\n",
            "Epoch 5/10\n",
            "1/1 [==============================] - 0s 997us/step - loss: 17.9797\n",
            "Epoch 6/10\n",
            "1/1 [==============================] - 0s 2ms/step - loss: 14.4877\n",
            "Epoch 7/10\n",
            "1/1 [==============================] - 0s 1ms/step - loss: 11.7333\n",
            "Epoch 8/10\n",
            "1/1 [==============================] - 0s 1ms/step - loss: 9.5594\n",
            "Epoch 9/10\n",
            "1/1 [==============================] - 0s 1ms/step - loss: 7.8424\n",
            "Epoch 10/10\n",
            "1/1 [==============================] - 0s 2ms/step - loss: 6.4849\n"
          ],
          "name": "stdout"
        },
        {
          "output_type": "execute_result",
          "data": {
            "text/plain": [
              "<tensorflow.python.keras.callbacks.History at 0x7fc1d7bff2b0>"
            ]
          },
          "metadata": {
            "tags": []
          },
          "execution_count": 19
        }
      ]
    },
    {
      "cell_type": "markdown",
      "metadata": {
        "colab_type": "text",
        "id": "kaFIr71H2OZ-"
      },
      "source": [
        "Ok, now you have a model that has been trained to learn the relationshop between X and Y. You can use the **model.predict** method to have it figure out the Y for a previously unknown X. So, for example, if X = 10, what do you think Y will be? Take a guess before you run this code:"
      ]
    },
    {
      "cell_type": "code",
      "metadata": {
        "colab_type": "code",
        "id": "oxNzL4lS2Gui",
        "colab": {
          "base_uri": "https://localhost:8080/",
          "height": 36
        },
        "outputId": "b40777a4-f5ac-44da-d116-834d5bfb77e3"
      },
      "source": [
        "print(model.predict([10.0]))"
      ],
      "execution_count": 20,
      "outputs": [
        {
          "output_type": "stream",
          "text": [
            "[[7.207308]]\n"
          ],
          "name": "stdout"
        }
      ]
    },
    {
      "cell_type": "markdown",
      "metadata": {
        "colab_type": "text",
        "id": "btF2CSFH2iEX"
      },
      "source": [
        "You might have thought 19, right? But it ended up being a little under. Why do you think that is? \n",
        "\n",
        "Remember that neural networks deal with probabilities, so given the data that we fed the NN with, it calculated that there is a very high probability that the relationship between X and Y is Y=2X-1, but with only 6 data points we can't know for sure. As a result, the result for 10 is very close to 19, but not necessarily 19. \n",
        "\n",
        "As you work with neural networks, you'll see this pattern recurring. You will almost always deal with probabilities, not certainties, and will do a little bit of coding to figure out what the result is based on the probabilities, particularly when it comes to classification.\n"
      ]
    },
    {
      "cell_type": "code",
      "metadata": {
        "id": "2Z2l5DwG8u1H",
        "colab_type": "code",
        "colab": {
          "base_uri": "https://localhost:8080/",
          "height": 426
        },
        "outputId": "4df87e2c-fc1b-4527-8627-d4b0c34dee8e"
      },
      "source": [
        "#패턴을 파악하기 위해 뉴런 네트워크를 사용한다. \n",
        "model = tf.keras.Sequential([keras.layers.Dense(units=1, input_shape=[1])])\n",
        "#뉴런 네트워크에서 가장 중요한 2가지 lossfunction, optimizer를 선정한다. \n",
        "model.compile(optimizer='sgd', loss='mean_squared_error')\n",
        "\n",
        "#실제 데이터\n",
        "xs = np.array([-1.0,  0.0, 1.0, 2.0, 3.0, 4.0], dtype=float) #입력\n",
        "ys = np.array([-3.0, -1.0, 1.0, 3.0, 5.0, 7.0], dtype=float) #정답\n",
        "\n",
        "#훈련\n",
        "model.fit(xs, ys, epochs=10) \n",
        "\n",
        "#예측\n",
        "print(model.predict([10.0]))"
      ],
      "execution_count": 21,
      "outputs": [
        {
          "output_type": "stream",
          "text": [
            "Epoch 1/10\n",
            "1/1 [==============================] - 0s 2ms/step - loss: 1.4585\n",
            "Epoch 2/10\n",
            "1/1 [==============================] - 0s 1ms/step - loss: 1.2833\n",
            "Epoch 3/10\n",
            "1/1 [==============================] - 0s 1ms/step - loss: 1.1427\n",
            "Epoch 4/10\n",
            "1/1 [==============================] - 0s 2ms/step - loss: 1.0293\n",
            "Epoch 5/10\n",
            "1/1 [==============================] - 0s 2ms/step - loss: 0.9374\n",
            "Epoch 6/10\n",
            "1/1 [==============================] - 0s 1ms/step - loss: 0.8625\n",
            "Epoch 7/10\n",
            "1/1 [==============================] - 0s 2ms/step - loss: 0.8010\n",
            "Epoch 8/10\n",
            "1/1 [==============================] - 0s 2ms/step - loss: 0.7501\n",
            "Epoch 9/10\n",
            "1/1 [==============================] - 0s 2ms/step - loss: 0.7076\n",
            "Epoch 10/10\n",
            "1/1 [==============================] - 0s 2ms/step - loss: 0.6718\n",
            "[[15.68748]]\n"
          ],
          "name": "stdout"
        }
      ]
    },
    {
      "cell_type": "code",
      "metadata": {
        "id": "w0l--KM6DLnE",
        "colab_type": "code",
        "colab": {}
      },
      "source": [
        ""
      ],
      "execution_count": 0,
      "outputs": []
    }
  ]
}