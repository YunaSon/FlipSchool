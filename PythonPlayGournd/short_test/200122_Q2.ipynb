{
 "nbformat": 4,
 "nbformat_minor": 2,
 "metadata": {
  "language_info": {
   "name": "python",
   "codemirror_mode": {
    "name": "ipython",
    "version": 3
   },
   "version": "3.7.4-final"
  },
  "orig_nbformat": 2,
  "file_extension": ".py",
  "mimetype": "text/x-python",
  "name": "python",
  "npconvert_exporter": "python",
  "pygments_lexer": "ipython3",
  "version": 3,
  "kernelspec": {
   "name": "python37464bit2ca5af9ea4dd4c818af2de9ba3f7b37b",
   "display_name": "Python 3.7.4 64-bit"
  }
 },
 "cells": [
  {
   "cell_type": "markdown",
   "execution_count": 1,
   "metadata": {},
   "outputs": [
    {
     "ename": "NameError",
     "evalue": "name 'hellomynameispython' is not defined",
     "output_type": "error",
     "traceback": [
      "\u001b[0;31m---------------------------------------------------------------------------\u001b[0m",
      "\u001b[0;31mNameError\u001b[0m                                 Traceback (most recent call last)",
      "\u001b[0;32m<ipython-input-1-8a192f6ee57e>\u001b[0m in \u001b[0;36m<module>\u001b[0;34m\u001b[0m\n\u001b[1;32m      2\u001b[0m \u001b[0;34m\u001b[0m\u001b[0m\n\u001b[1;32m      3\u001b[0m \u001b[0mquestion\u001b[0m \u001b[0;34m=\u001b[0m \u001b[0;34m\"hello my name is python\"\u001b[0m\u001b[0;34m\u001b[0m\u001b[0;34m\u001b[0m\u001b[0m\n\u001b[0;32m----> 4\u001b[0;31m \u001b[0mresult\u001b[0m \u001b[0;34m=\u001b[0m \u001b[0mhellomynameispython\u001b[0m\u001b[0;34m\u001b[0m\u001b[0;34m\u001b[0m\u001b[0m\n\u001b[0m",
      "\u001b[0;31mNameError\u001b[0m: name 'hellomynameispython' is not defined"
     ]
    }
   ],
   "source": [
    "### 1. 다음 문자열을 공백을 제거하여 출력하세요\n",
    "```\n",
    "question = \"hello my name is python\"\n",
    "result = hellomynameispython\n",
    "```"
   ]
  },
  {
   "cell_type": "code",
   "execution_count": 1,
   "metadata": {},
   "outputs": [],
   "source": [
    "question = \"hello my name is python\"\n"
   ]
  },
  {
   "cell_type": "markdown",
   "execution_count": 2,
   "metadata": {},
   "outputs": [
    {
     "ename": "SyntaxError",
     "evalue": "invalid syntax (<ipython-input-2-cad48ca185e8>, line 2)",
     "output_type": "error",
     "traceback": [
      "\u001b[0;36m  File \u001b[0;32m\"<ipython-input-2-cad48ca185e8>\"\u001b[0;36m, line \u001b[0;32m2\u001b[0m\n\u001b[0;31m    ```\u001b[0m\n\u001b[0m    ^\u001b[0m\n\u001b[0;31mSyntaxError\u001b[0m\u001b[0;31m:\u001b[0m invalid syntax\n"
     ]
    }
   ],
   "source": [
    "### 2. 다음 문자열을 공백을 제거하고 각 단어의 앞글자를 대문자로 변환하여 출력하세요\n",
    "```\n",
    "question = \"hello my name is python\"\n",
    "result = \"HelloMyNameIsPython\"\n",
    "```"
   ]
  },
  {
   "cell_type": "code",
   "execution_count": 2,
   "metadata": {},
   "outputs": [],
   "source": [
    "question = \"hello my name is python\"\n"
   ]
  },
  {
   "cell_type": "markdown",
   "execution_count": 3,
   "metadata": {},
   "outputs": [
    {
     "ename": "SyntaxError",
     "evalue": "invalid syntax (<ipython-input-3-72350784e368>, line 2)",
     "output_type": "error",
     "traceback": [
      "\u001b[0;36m  File \u001b[0;32m\"<ipython-input-3-72350784e368>\"\u001b[0;36m, line \u001b[0;32m2\u001b[0m\n\u001b[0;31m    ```\u001b[0m\n\u001b[0m    ^\u001b[0m\n\u001b[0;31mSyntaxError\u001b[0m\u001b[0;31m:\u001b[0m invalid syntax\n"
     ]
    }
   ],
   "source": [
    "### 3. 다음 과목과 점수를 딕셔너리 형으로 변환하여 출력하세요 (반드시 zip함수와 ditc함수를 사용하세요)\n",
    "```\n",
    "subject = [\"science\", \"deeplearning\", \"english\", \"math\", \"programming\"]\n",
    "point = [62,61,49,78,82]\n",
    "```"
   ]
  },
  {
   "cell_type": "code",
   "execution_count": 3,
   "metadata": {},
   "outputs": [],
   "source": [
    "subject = [\"science\", \"deeplearning\", \"english\", \"math\", \"programming\"]\n",
    "point = [62,61,49,78,82]\n"
   ]
  },
  {
   "cell_type": "markdown",
   "execution_count": null,
   "metadata": {},
   "outputs": [],
   "source": [
    "### 4. 다음 생년월일을 연장자 순으로 정렬하세요.\n",
    "```\n",
    "question = [880219, 900212, 850322, 850821, 791203, 920411, 940321]\n",
    "result 예시: [791203, 850322, 850821, 880219, 900212, 920411, 940321]\n",
    "```"
   ]
  },
  {
   "cell_type": "code",
   "execution_count": 4,
   "metadata": {},
   "outputs": [],
   "source": [
    "question = [880219, 900212, 850322, 850821, 791203, 920411, 940321]\n"
   ]
  },
  {
   "cell_type": "markdown",
   "execution_count": 5,
   "metadata": {},
   "outputs": [
    {
     "ename": "SyntaxError",
     "evalue": "invalid syntax (<ipython-input-5-be85e3ea1a3a>, line 2)",
     "output_type": "error",
     "traceback": [
      "\u001b[0;36m  File \u001b[0;32m\"<ipython-input-5-be85e3ea1a3a>\"\u001b[0;36m, line \u001b[0;32m2\u001b[0m\n\u001b[0;31m    ```\u001b[0m\n\u001b[0m    ^\u001b[0m\n\u001b[0;31mSyntaxError\u001b[0m\u001b[0;31m:\u001b[0m invalid syntax\n"
     ]
    }
   ],
   "source": [
    "### 5. weekend와 weekday 변수를 아래와 같이 선언한 뒤, input함수로 받은 요일에 대해 주말과 주중을 판단하는 코드를 작성하세요\n",
    "```\n",
    "weekend = [\"토\", \"일\"]\n",
    "weekday = [\"월\", \"화\", \"수\", \"목\", \"금\"]\n",
    "\n",
    "question = input(\"요일 입력: \")\n",
    "\n",
    "결과예시)\n",
    "월 -> 주중\n",
    "토 -> 주말\n",
    "```"
   ]
  },
  {
   "cell_type": "code",
   "execution_count": 5,
   "metadata": {},
   "outputs": [],
   "source": [
    "weekend = [\"토\", \"일\"]\n",
    "weekday = [\"월\", \"화\", \"수\", \"목\", \"금\"]\n",
    "\n",
    "question = input(\"일주일 월,화,수,목,금,토,일 중 요일을 입력하세요: \")\n"
   ]
  },
  {
   "cell_type": "markdown",
   "execution_count": null,
   "metadata": {},
   "outputs": [],
   "source": [
    "### 6. 한도가 50000인 카드를 금액을 초과할때 까지 사용할 수 있는 코드를 작성하세요 만약 금액을 초과하면 사용이 불가해야 합니다. "
   ]
  },
  {
   "cell_type": "code",
   "execution_count": 6,
   "metadata": {},
   "outputs": [],
   "source": [
    "card = 50000\n"
   ]
  },
  {
   "cell_type": "markdown",
   "execution_count": null,
   "metadata": {},
   "outputs": [],
   "source": [
    "### 7. 랜덤 로또번호 출력하기. \n",
    "\n",
    "- 1~45까지의 숫자중 6자리를 랜덤으로 출력합니다. \n",
    "- 중복이 있으면 안됨니다. \n",
    "\n",
    "```\n",
    "결과 예시\n",
    "\n",
    "result = [1,3,44,2,25,10]\n",
    "\n",
    "```"
   ]
  },
  {
   "cell_type": "code",
   "execution_count": 7,
   "metadata": {},
   "outputs": [],
   "source": [
    "import random\n"
   ]
  },
  {
   "cell_type": "markdown",
   "execution_count": null,
   "metadata": {},
   "outputs": [],
   "source": [
    "### 8. 원의 넓이를 구하는 함수를 정의하고 정의한 함수를 호출하여 원의 반지름이 2인 넓이를 구해보세요 \n",
    "- 공식: 3.1415 r**2"
   ]
  },
  {
   "cell_type": "code",
   "execution_count": null,
   "metadata": {},
   "outputs": [],
   "source": []
  }
 ]
}