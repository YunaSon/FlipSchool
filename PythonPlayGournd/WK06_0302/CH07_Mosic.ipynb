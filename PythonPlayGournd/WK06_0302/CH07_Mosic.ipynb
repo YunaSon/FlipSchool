{
 "nbformat": 4,
 "nbformat_minor": 2,
 "metadata": {
  "language_info": {
   "name": "python",
   "codemirror_mode": {
    "name": "ipython",
    "version": 3
   }
  },
  "orig_nbformat": 2,
  "file_extension": ".py",
  "mimetype": "text/x-python",
  "name": "python",
  "npconvert_exporter": "python",
  "pygments_lexer": "ipython3",
  "version": 3
 },
 "cells": [
  {
   "cell_type": "markdown",
   "metadata": {},
   "source": [
    "# 7장 포토 모자이크"
   ]
  },
  {
   "cell_type": "markdown",
   "metadata": {},
   "source": [
    "## Step1. 포토 모자이크 알고리즘\n",
    "\n",
    "- 타겟 이미지 내의 타일을 대체할 입력 이미지들을 읽어 들인다.\n",
    "- 타겟 이미지를 읽어들인 다음 M X N 그리드로 분할한다. (*분할된 사각형이 타일)\n",
    "- 각 타일 별로 이미지들 중에서 가장 일치"
   ]
  }
 ]
}