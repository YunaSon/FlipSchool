{
 "nbformat": 4,
 "nbformat_minor": 2,
 "metadata": {
  "language_info": {
   "name": "python",
   "codemirror_mode": {
    "name": "ipython",
    "version": 3
   },
   "version": "3.7.4-final"
  },
  "orig_nbformat": 2,
  "file_extension": ".py",
  "mimetype": "text/x-python",
  "name": "python",
  "npconvert_exporter": "python",
  "pygments_lexer": "ipython3",
  "version": 3,
  "kernelspec": {
   "name": "python37464bit2ca5af9ea4dd4c818af2de9ba3f7b37b",
   "display_name": "Python 3.7.4 64-bit"
  }
 },
 "cells": [
  {
   "cell_type": "markdown",
   "metadata": {},
   "source": [
    "# Wk07 (3/9)\n",
    "\n",
    "## 책\n",
    "\n",
    "- Ch7 Photo Mosaic\n",
    "- Ch8 Auto Streosystem\n",
    "\n",
    "## Python Library\n",
    "- PIL\n",
    "- NumPy\n",
    "\n",
    "## Python 문법\n",
    "- 예외처리 (try / except)\n",
    "- assert\n",
    "- 파일 처리하기 : 많은 이미지 파일 처리하기!"
   ]
  },
  {
   "cell_type": "markdown",
   "metadata": {},
   "source": [
    "## Ch7 Photo Mosaic\n",
    "\n",
    "- 수많은 사각형들로 분할된 이미지, 각 사각형은 타깃과 일치하는 다른 이미지로 대체된다. \n",
    "- https://en.wikipedia.org/wiki/Photographic_mosaic"
   ]
  },
  {
   "cell_type": "markdown",
   "metadata": {},
   "source": [
    "### 동작 원리 (알고리즘)\n",
    "\n",
    "1. 타깃 이미지 내의 타일을 대체할 입력 이미지들을 읽어 들인다. \n",
    "2. 타깃 이미지를 읽어들인 다음 M X N 그리드로 분할한다.\n",
    "3. 각 타일별로 입력 이미지들 중에서 가장 일치하는 이미지를 찾는다.\n",
    "4. 선택된 입력 이미지들을 M X N 그리드에 배열해 최종 모자이크를 생성한다."
   ]
  },
  {
   "cell_type": "markdown",
   "metadata": {},
   "source": [
    "#### Step1 타일 이미지 읽기"
   ]
  },
  {
   "cell_type": "code",
   "execution_count": 2,
   "metadata": {},
   "outputs": [],
   "source": [
    "def getImages(imageDir):\n",
    "    files = os.listdir(imageDir)\n",
    "    images = []\n",
    "    for file in files:\n",
    "        filePath = os.path.abspath(os.path.join(imageDir, file))\n",
    "        try:\n",
    "            fp = open(filePath, \"rb\")\n",
    "            im = Image.open(fp)\n",
    "            images.append(im)\n",
    "            im.load()\n",
    "            fp.close()\n",
    "        except:\n",
    "            print(\"Invalid image: %s\" %(filePath))\n",
    "    return images"
   ]
  },
  {
   "cell_type": "markdown",
   "metadata": {},
   "source": [
    "- os.listdir() : imageDir 디렉토리 내의 파일들을 리스트로 읽어들인다. \n",
    "- os.path.abspath()와 os.path.join()함수를 사용해 이미지의 파일명을 얻어온다. (상대경로와 절대경로에 모두 동작 가능)\n",
    "- 리스트 내의 파일을 PIL의 image객체로 불러들인다. \n",
    "- 파일을 일일이 객체로 불러오기 위해 파일명을 일일이 Image.open()메소드로 전달할 수도 있지만, 폴더 내의 이미지의 개수가 수백 수천개에 이르기 때문에 시스템의 자원을 너무 많이 사용한다. \n",
    "- 타일 이미지들을 연 다음에, 파일을 닫고 시스템 자원을 해제한다. \n",
    "    - oepn()함수로 이미지 파일을 연다\n",
    "    - 결과 이미지 im을 배열에 저장한다."
   ]
  },
  {
   "cell_type": "markdown",
   "metadata": {},
   "source": [
    "#### Step2: 이미지 평균 색상 값 계산하기"
   ]
  },
  {
   "cell_type": "code",
   "execution_count": 4,
   "metadata": {},
   "outputs": [],
   "source": [
    "def getAverageRGB(image):\n",
    "    im = np.array(image)\n",
    "    w,h,d = im.shape\n",
    "    return tuple(np.average(im.reshape(w*h, d), axis=0))"
   ]
  },
  {
   "cell_type": "markdown",
   "metadata": {},
   "source": [
    "#### Step3: 타깃 이미지 분할하기"
   ]
  },
  {
   "cell_type": "code",
   "execution_count": 5,
   "metadata": {},
   "outputs": [],
   "source": [
    "def splitImage(image, size):\n",
    "    W, H = image.size[0], image.size[1]\n",
    "    m, n = size\n",
    "    w, h = int(W/n), int(H/m)\n",
    "    imgs = []\n",
    "    for j in range(m):\n",
    "        for i in range(n):\n",
    "            imgs.append(image.crop((i*w, j*h, (i+1)*w, (j+1)*h)))\n",
    "    return imgs"
   ]
  },
  {
   "cell_type": "markdown",
   "metadata": {},
   "source": [
    "#### Step4: 타일과 가장 비슷한 이미지 찾기"
   ]
  },
  {
   "cell_type": "code",
   "execution_count": 6,
   "metadata": {},
   "outputs": [],
   "source": [
    "def getBestMatchIndex(input_avg, avgs):\n",
    "    avg = input_avg\n",
    "    index = 0\n",
    "    min_index = 0\n",
    "    min_dist = float(\"inf\")\n",
    "    for val in avgs:\n",
    "        dist = ((val[0] - avg[0])**2 + (val[1] - avg[1])**2 + (val[2] - avg[2])**2)\n",
    "        if dist < min_dist:\n",
    "            min_dist = dist\n",
    "            min_index = index\n",
    "        index += 1\n",
    "    return min_index "
   ]
  },
  {
   "cell_type": "markdown",
   "metadata": {},
   "source": [
    "- avgs 리스트에서 평균 RGB값 input_avg와 가장 근접하는 것을 찾으려고 시도한다. \n",
    "- avgs 리스트는 입력 이미지들의 입력 RGB값이 들어 있는 리스트다. \n",
    "- 가장 비슷한 것을 찾기 위해 입력 이미지들의 평균 RGB값과 비교가 수행된다. "
   ]
  },
  {
   "cell_type": "markdown",
   "metadata": {},
   "source": [
    "#### Step5 이미지 그리드 생성하기"
   ]
  },
  {
   "cell_type": "code",
   "execution_count": 7,
   "metadata": {},
   "outputs": [],
   "source": [
    "def createImageGrid(images, dims):\n",
    "    m, n = dims\n",
    "    assert m*n == len(images)\n",
    "\n",
    "    width = max([img.size[0] for img in images])\n",
    "    height = max([img.sizep[1] for img in images])\n",
    "\n",
    "    grid_img = Image.new('RGB', (n*width, m*height))\n",
    "\n",
    "    for index in range(len(images)):\n",
    "        row = int(index/n)\n",
    "        col = index - n*row\n",
    "        grid_img.paste(images[index], (col*width, row*height))\n",
    "    \n",
    "    return grid_img"
   ]
  },
  {
   "cell_type": "markdown",
   "metadata": {},
   "source": [
    "- 그리드 크기를 수집한 다음, assert를 사용해 createImageGrid()에 전달된 이미지의 개수가 그리드 크기와 일치하는지 확인한다. (assert 메소드는 특해 개발 과정에서 코드 내의 가정을 확인할 때 유용하다.)\n",
    "- 지금 가장 비슷한 RGB값에 기반해 타일 이미지 리스트가 주어져 있으며, 이 리스트를 사용해 포토 모자이크를 나타내는 이미지 그리드가 생성된다. "
   ]
  },
  {
   "cell_type": "markdown",
   "metadata": {},
   "source": [
    "#### Step6 포토모자이크 생성하기 "
   ]
  },
  {
   "cell_type": "code",
   "execution_count": 8,
   "metadata": {},
   "outputs": [],
   "source": [
    "def createPhotomosaic(target_image, input_images, grid_size, reuse_image=True):\n",
    "    print(\"splitting input image...\")\n",
    "    target_images = splitImage(target_image, grid_size)\n",
    "    print('finding image matches...')\n",
    "    output_images = []\n",
    "    count = 0\n",
    "    batch_size = int(len(target_images)/10)\n",
    "\n",
    "    avgs = []\n",
    "    for img in input_images:\n",
    "        avgs.append(getAverageRGB(img))\n",
    "        match_index = getBestMatchIndex(avg, avgs)\n",
    "        output_images.append(input_images[match_index])\n",
    "        if count > 0 and batch_size > 10 and count % batch_size is 0:\n",
    "            print('processed %d of %d...' %(count, len(target_images)))\n",
    "        count += 1\n",
    "        if not reuse_images:\n",
    "            input_images.remove(match)\n",
    "        \n",
    "    print('creating mosaic...')\n",
    "    mosaic_image = createImageGrid(output_images, grid_size)\n",
    "        \n",
    "    return mosaic_image"
   ]
  },
  {
   "cell_type": "markdown",
   "metadata": {},
   "source": [
    "- 타깃 이미지, 입력 이미지들의 리스트, 생성될 포토모자이크의 크기, 이미지 재사용 기능 여부를 나타내는 플래그를 인수로 받는다. "
   ]
  },
  {
   "cell_type": "markdown",
   "metadata": {},
   "source": [
    "#### Step7: 포토모자이크 크기 제어하기"
   ]
  },
  {
   "cell_type": "code",
   "execution_count": 10,
   "metadata": {},
   "outputs": [
    {
     "name": "stdout",
     "output_type": "stream",
     "text": "resizing image...\n"
    }
   ],
   "source": [
    "print('resizing image...')\n",
    "#dims = (int(target_image.size[0]/grid_size[1]),\n",
    "#        int(target_image.size[1]/grid_size[0]))\n",
    "#print('max tile dims: %s' %(dims))\n",
    "#for img in input_images:\n",
    "#    img.thumbnail(dims)"
   ]
  },
  {
   "cell_type": "markdown",
   "metadata": {},
   "source": [
    "### 전체 코드"
   ]
  },
  {
   "cell_type": "code",
   "execution_count": 12,
   "metadata": {},
   "outputs": [],
   "source": [
    "def getAverageRGB(image):\n",
    "    #step2: 이미지 평균 색상값 계산하기\n",
    "    ''' PIL Image 객체가 주어졌을 때, 색상의 평균값을 (r, g, b) 형태로 반환한다. '''\n",
    "    pass\n",
    "\n",
    "def splitImage(image, size):\n",
    "    #Step3: 타깃 이미지 분할하기\n",
    "    ''' Image 객체와 크기 정보가 주어졌을 때, (m*n)크기의 Image리스트를 반환한다. '''\n",
    "    pass\n",
    "\n",
    "def getImage(imageDir):\n",
    "    #step1: 타일 이미지 읽기 \n",
    "    '''디렉토리를 인수로 받아서 이미지들의 리스트를 반환한다. '''\n",
    "    pass\n",
    "\n",
    "def getImageFilenames(imageDir):\n",
    "    #step1-1: 이미지들이 위치하는 디렉토리가 주어졌을 때, 이미지 파일명들의 리스트를 반환한다. \n",
    "    '''이미지들이 위치하는 디렉트로가 주어졌을 때, 이미지 파일명들의 리스트를 반환한다. '''\n",
    "    pass\n",
    "\n",
    "def getBestMatchIndex(input_avg, avgs):\n",
    "    #step4: 타일과 가장 비슷한 이미지 찾기\n",
    "    '''평균 RGB 거리를 기준으로 가장 가까운 이미지의 인덱스를 반환한다. '''\n",
    "    pass\n",
    "\n",
    "def createImageGrid(images, dims):\n",
    "    #step5: 이미지 그리드 생성하기 \n",
    "    '''이미지 리스트와 그리드 크기(m, n)이 주어졌을 때, 이미지들로 이뤄진 그리드를 생성한다.'''\n",
    "    pass\n",
    "\n",
    "def createPhotomosaic(target_image, input_image, grid_size, reuse_image=True):\n",
    "    #step6: 포토모자이크 생성하기 \n",
    "    '''타겟 이미지와 입력 이미지들이 주어졌을 때, 포토모자이크를 생성한다. '''\n",
    "    pass\n",
    "\n",
    "def main():\n",
    "    #타겟 이미지\n",
    "    target_image = Image.open(args.target_image)\n",
    "    #입력 이미지, getImage함수 이용\n",
    "    input_images = getImage(args.input_folder)\n",
    "    #그리드의 크기\n",
    "    grid_size = int(args.grid_size[0]), int(args.grid_size[1])\n",
    "    #출력 파일\n",
    "    output_filename = 'mosaic.png'\n",
    "    if args.outfile:\n",
    "        output_filename = args.outfile\n",
    "    #포토 모자이크 생성\n",
    "    mosaic_image = createPhotomosaic(target_image, input_images, grid_size, reuse_images=True)\n",
    "    #포토 모자이크 저장\n",
    "    mosaic_image.save(output_filename, 'PNG')\n"
   ]
  },
  {
   "cell_type": "markdown",
   "metadata": {},
   "source": [
    "## Ch8 Auto Stereogram\n",
    "\n",
    "- 오토스테레오그램은 매직아이로서, 3차원적 지각을 만들어내는 2차원 이미지다. \n",
    "- 3차원처럼 보이는 반복패턴으로 구성된다. \n",
    "- 입력받은 깊이맵으로부터 오토스테레오그램을 생성한다."
   ]
  },
  {
   "cell_type": "markdown",
   "metadata": {},
   "source": [
    "## 동작원리 (알고리즘)\n",
    "\n",
    "- 깊이맵을 읽어 들인다. \n",
    "- 타일 이미지를 읽어들이거나 무작위 점 타일을 생성한다.\n",
    "- 타일을 반복해 새로운 이미지를 생성한다. 이 이미지의 폭과 높이는 깊이맵과 일치해야 한다. \n",
    "- 새로 생성된 이미지의 모든 픽셀에 대해, 그 픽셀의 깊이 값에 비례해서 오른쪽으로 픽셀을 시프트 한다. \n",
    "- 오토스테레오그램을 파일에 기록한다. "
   ]
  },
  {
   "cell_type": "markdown",
   "metadata": {},
   "source": [
    "### Step1: 주어진 타일 반복하기"
   ]
  },
  {
   "cell_type": "code",
   "execution_count": 13,
   "metadata": {},
   "outputs": [],
   "source": [
    "def createTiledImage(tile, dims):\n",
    "    img = Image.new('RGB', dims)\n",
    "    W, H = dims\n",
    "    w, h = tile.size\n",
    "    cols = int(W/w) + 1\n",
    "    rows = int(H/h) + 1\n",
    "    for i in range(rows):\n",
    "        for j in range(cols):\n",
    "            img.paste(tile, (j*w, i*h))\n",
    "    return img"
   ]
  },
  {
   "cell_type": "code",
   "execution_count": null,
   "metadata": {},
   "outputs": [],
   "source": []
  },
  {
   "cell_type": "markdown",
   "metadata": {},
   "source": [
    "### Step2 임의의 원으로 타일 생성하기"
   ]
  },
  {
   "cell_type": "code",
   "execution_count": 14,
   "metadata": {},
   "outputs": [],
   "source": [
    "def createRandomTile(dims):\n",
    "    img = Image.new('RGB', dims)\n",
    "    draw = ImageDraw.Draw(img)\n",
    "    r = int(min(*dims)/100)\n",
    "    n = 1000\n",
    "    for i in range(n):\n",
    "        x, y = random.randint(0, dims[0]-r), random.randint(0, dims[1]-r)\n",
    "        fill = (random.randint(0, 255), random.randint(0, 255), random.randtint(0,255))\n",
    "        draw.ellipse((x-r, y-r, x+r, y+r), fill)\n",
    "    return img"
   ]
  },
  {
   "cell_type": "code",
   "execution_count": null,
   "metadata": {},
   "outputs": [],
   "source": []
  },
  {
   "cell_type": "markdown",
   "metadata": {},
   "source": [
    "### Step3: 오토스테레오그램 만들기"
   ]
  },
  {
   "cell_type": "code",
   "execution_count": 15,
   "metadata": {},
   "outputs": [],
   "source": [
    "def createAutostereogram(dmap, tile):\n",
    "    if dmap.mode is not 'L':\n",
    "        dmap = dmap.convert('L')\n",
    "    if not tile:\n",
    "        tile = createRandomTile((100, 100))\n",
    "    img = createTiledImage(tile, dmap.size)\n",
    "    sImg = img.copy()\n",
    "    pixD = dmap.load()\n",
    "    pixS = sImg.load()\n",
    "    cols, rows = sImg.size\n",
    "    for j in range(rows):\n",
    "        for i in range(cols):\n",
    "            xshift = pixD[i, j]/10\n",
    "            xpos = i - tile.size[0] + xshift\n",
    "            if xpos > 0 and xpos < cols:\n",
    "                pixS[i, j] = pixS[xpos, j]\n",
    "    return sIMG"
   ]
  },
  {
   "cell_type": "code",
   "execution_count": null,
   "metadata": {},
   "outputs": [],
   "source": []
  },
  {
   "cell_type": "markdown",
   "metadata": {},
   "source": [
    "## 전체코드"
   ]
  },
  {
   "cell_type": "code",
   "execution_count": null,
   "metadata": {},
   "outputs": [],
   "source": [
    "def createSpacingDepthExample():\n",
    "    pass\n",
    "\n",
    "def createRandomTile(dims):\n",
    "    pass\n",
    "\n",
    "def createTiledImage(tile, dims):\n",
    "    pass\n",
    "\n",
    "def createDepthMap (dims):\n",
    "    pass\n",
    "\n",
    "def createDepthShiftedImage(dmap, img):\n",
    "    pass\n",
    "\n",
    "def createAutostereogram(dmap, tile):\n",
    "    pass\n",
    "\n",
    "def main():\n",
    "    #출력 파일 설정\n",
    "    outFile = 'as.png'\n",
    "    if args.outFile:\n",
    "        outFile = args.outFile\n",
    "    #타일 설정\n",
    "    tileFile = False\n",
    "    if args.tileFile:\n",
    "        tileFile = Image.open(args.tileFile)\n",
    "    #깊이맵을 연다\n",
    "    dmImg = Image.open(args.dmFile)\n",
    "    #스테레오그램 생성 createAutostereogram()함수 호출\n",
    "    asImg = createAutostereogram(dm(Img, tileFile))\n",
    "    #파일 저장\n",
    "    asImg.save(outFile)"
   ]
  },
  {
   "cell_type": "code",
   "execution_count": null,
   "metadata": {},
   "outputs": [],
   "source": []
  },
  {
   "cell_type": "code",
   "execution_count": null,
   "metadata": {},
   "outputs": [],
   "source": []
  }
 ]
}