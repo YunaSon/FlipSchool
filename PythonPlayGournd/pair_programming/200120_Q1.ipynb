{
 "nbformat": 4,
 "nbformat_minor": 2,
 "metadata": {
  "language_info": {
   "name": "python",
   "codemirror_mode": {
    "name": "ipython",
    "version": 3
   },
   "version": "3.7.5-final"
  },
  "orig_nbformat": 2,
  "file_extension": ".py",
  "mimetype": "text/x-python",
  "name": "python",
  "npconvert_exporter": "python",
  "pygments_lexer": "ipython3",
  "version": 3,
  "kernelspec": {
   "name": "python37564bitcdfe87f8a7714e78994d042a2718a980",
   "display_name": "Python 3.7.5 64-bit"
  }
 },
 "cells": [
  {
   "cell_type": "markdown",
   "execution_count": 57,
   "metadata": {},
   "outputs": [
    {
     "ename": "SyntaxError",
     "evalue": "invalid syntax (<ipython-input-57-f1fd061e5ded>, line 1)",
     "output_type": "error",
     "traceback": [
      "\u001b[0;36m  File \u001b[0;32m\"<ipython-input-57-f1fd061e5ded>\"\u001b[0;36m, line \u001b[0;32m1\u001b[0m\n\u001b[0;31m    <font color='red'>1. result 리스트의 요소들을 개행하여 한파일로 저장하기 </red>\u001b[0m\n\u001b[0m    ^\u001b[0m\n\u001b[0;31mSyntaxError\u001b[0m\u001b[0;31m:\u001b[0m invalid syntax\n"
     ]
    }
   ],
   "source": [
    "\n",
    "\n",
    "## <font color='red'>1. result 리스트의 요소들을 개행하여 한파일로 저장하기 </font>\n",
    "\n",
    "결과 파일은 result.txt파일이 생셩되고, 그 안에 데이터는 다음과 같다\n",
    "##### 8.65 \n",
    "##### 9.12 \n",
    "##### :\n",
    "##### 8.31"
   ]
  },
  {
   "cell_type": "code",
   "execution_count": 7,
   "metadata": {},
   "outputs": [],
   "source": [
    "result = ['8.65', '9.12', '8.45', '7.81', '8.05', '7.21', '8.31']"
   ]
  },
  {
   "cell_type": "markdown",
   "execution_count": 60,
   "metadata": {},
   "outputs": [
    {
     "ename": "IndentationError",
     "evalue": "unexpected indent (<ipython-input-60-41b6ea36fe5b>, line 3)",
     "output_type": "error",
     "traceback": [
      "\u001b[0;36m  File \u001b[0;32m\"<ipython-input-60-41b6ea36fe5b>\"\u001b[0;36m, line \u001b[0;32m3\u001b[0m\n\u001b[0;31m    <font color='red'>2. 저장한 result파일을 불러와 최고 숫자(점수) 출력하기 </red>\u001b[0m\n\u001b[0m    ^\u001b[0m\n\u001b[0;31mIndentationError\u001b[0m\u001b[0;31m:\u001b[0m unexpected indent\n"
     ]
    }
   ],
   "source": [
    "\n",
    "\n",
    "## <font color='red'>2. 저장한 result파일을 불러와 최고 숫자(점수) 출력하기 </font>\n",
    "결과: 9.12 출력"
   ]
  },
  {
   "cell_type": "code",
   "execution_count": 8,
   "metadata": {},
   "outputs": [
    {
     "name": "stdout",
     "output_type": "stream",
     "text": "The highest score was: \n0\n"
    }
   ],
   "source": [
    "best_score = 0\n",
    "\n",
    "print(\"The highest score was: \")\n",
    "print(best_score)"
   ]
  },
  {
   "cell_type": "markdown",
   "execution_count": 62,
   "metadata": {},
   "outputs": [
    {
     "ename": "SyntaxError",
     "evalue": "invalid syntax (<ipython-input-62-120bb83b8966>, line 2)",
     "output_type": "error",
     "traceback": [
      "\u001b[0;36m  File \u001b[0;32m\"<ipython-input-62-120bb83b8966>\"\u001b[0;36m, line \u001b[0;32m2\u001b[0m\n\u001b[0;31m    결과: 9.12 출력\u001b[0m\n\u001b[0m              ^\u001b[0m\n\u001b[0;31mSyntaxError\u001b[0m\u001b[0;31m:\u001b[0m invalid syntax\n"
     ]
    }
   ],
   "source": [
    "## <font color=\"red\">3. 사람 이름이 있는 경우, 문자열을 파싱하여 최고 점수만 출력하기 </font>"
   ]
  },
  {
   "cell_type": "code",
   "execution_count": 9,
   "metadata": {},
   "outputs": [
    {
     "name": "stdout",
     "output_type": "stream",
     "text": "The best score was:\n0\n"
    }
   ],
   "source": [
    "result_name = open(\"resultwithname.txt\")\n",
    "best_score = 0\n",
    "\n",
    "print(\"The best score was:\")\n",
    "print(best_score)"
   ]
  },
  {
   "cell_type": "code",
   "execution_count": null,
   "metadata": {},
   "outputs": [],
   "source": []
  }
 ]
}