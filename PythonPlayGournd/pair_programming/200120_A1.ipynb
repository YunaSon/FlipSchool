{
 "nbformat": 4,
 "nbformat_minor": 2,
 "metadata": {
  "language_info": {
   "name": "python",
   "codemirror_mode": {
    "name": "ipython",
    "version": 3
   },
   "version": "3.7.5-final"
  },
  "orig_nbformat": 2,
  "file_extension": ".py",
  "mimetype": "text/x-python",
  "name": "python",
  "npconvert_exporter": "python",
  "pygments_lexer": "ipython3",
  "version": 3,
  "kernelspec": {
   "name": "python37564bitcdfe87f8a7714e78994d042a2718a980",
   "display_name": "Python 3.7.5 64-bit"
  }
 },
 "cells": [
  {
   "cell_type": "code",
   "execution_count": null,
   "metadata": {},
   "outputs": [],
   "source": []
  },
  {
   "cell_type": "code",
   "execution_count": 36,
   "metadata": {},
   "outputs": [],
   "source": [
    "result = ['8.65', '9.12', '8.45', '7.81', '8.05', '7.21', '8.31']\n",
    "file = open(\"result.txt\", \"w\")\n",
    "\n",
    "for i in result:\n",
    "    data = \"{}\\n\".format(i)\n",
    "    file.write(data)\n",
    "\n",
    "file.close()"
   ]
  },
  {
   "cell_type": "code",
   "execution_count": 37,
   "metadata": {},
   "outputs": [
    {
     "name": "stdout",
     "output_type": "stream",
     "text": "The highest score was: \n9.12\n"
    }
   ],
   "source": [
    "best_score = 0\n",
    "result_f = open(\"result.txt\")\n",
    "for line in result_f:\n",
    "    if float(line) > best_score:\n",
    "        best_score = float(line)\n",
    "result_f.close()\n",
    "\n",
    "print(\"The highest score was: \")\n",
    "print(best_score)"
   ]
  },
  {
   "cell_type": "code",
   "execution_count": 38,
   "metadata": {},
   "outputs": [],
   "source": [
    "resultwithname = {\"Johnny\": 8.65, \"Juan\": 9.12, \"Joseph\":8.45, \"Stacey\":7.81, \"Aideen\":8.05, \"Zack\":7.21, \"Aaron\":8.31}\n",
    "file = open(\"resultwithname.txt\", \"w\")\n",
    "\n",
    "for i in resultwithname.items():\n",
    "    data = \"{}\\n\".format(i)\n",
    "    file.write(data)\n",
    "\n",
    "file.close()"
   ]
  },
  {
   "cell_type": "code",
   "execution_count": 54,
   "metadata": {},
   "outputs": [
    {
     "name": "stdout",
     "output_type": "stream",
     "text": "The best score was:\n9.12\n"
    }
   ],
   "source": [
    "result_name = open(\"resultwithname.txt\")\n",
    "\n",
    "best_score=0\n",
    "a = '32.1)'\n",
    "#a[:4]\n",
    "\n",
    "for line in result_name:\n",
    "    (name, score) = line.split()\n",
    "    score = score[:4]\n",
    "    if float(score) > best_score:\n",
    "        best_score = float(score)\n",
    "result_name.close()\n",
    "\n",
    "print(\"The best score was:\")\n",
    "print(best_score)"
   ]
  },
  {
   "cell_type": "code",
   "execution_count": null,
   "metadata": {},
   "outputs": [],
   "source": []
  }
 ]
}