{
 "nbformat": 4,
 "nbformat_minor": 2,
 "metadata": {
  "language_info": {
   "name": "python",
   "codemirror_mode": {
    "name": "ipython",
    "version": 3
   },
   "version": "3.7.4-final"
  },
  "orig_nbformat": 2,
  "file_extension": ".py",
  "mimetype": "text/x-python",
  "name": "python",
  "npconvert_exporter": "python",
  "pygments_lexer": "ipython3",
  "version": 3,
  "kernelspec": {
   "name": "python37464bit2ca5af9ea4dd4c818af2de9ba3f7b37b",
   "display_name": "Python 3.7.4 64-bit"
  }
 },
 "cells": [
  {
   "cell_type": "markdown",
   "metadata": {},
   "source": [
    "# 9장 OpenGL의 이해\n",
    "\n",
    "- OpenGL용 GLFW 라이브러리 사용법\n",
    "- GLSL을 사용해 버텍스 세이더와 프래그먼트 세이더를 작성하는 방법\n",
    "- 텍스처 매핑을 수행하는 방법"
   ]
  },
  {
   "cell_type": "markdown",
   "metadata": {},
   "source": [
    "## Overview\n",
    "\n",
    "- 이번 프로젝트에서는 OpenGL과 GLFW를 사용해 텍스처에 매핑된 사각형을 보여주는 간단한 프로그램을 작성한다.\n",
    "\n",
    "- GPU, OpenGL, Shader\n",
    "    - OpenGL: GPU에 접근할 수 있는 소프트웨어 인터페이스를 제공하며, GLFW는 OpenGL창을 처리할 수 있는 툴킷이다. \n",
    "    - C와 유사한 GLSL(OpenGL Shading Language)를 사용해 GPU내에서 실행되는 코드인 셰이더(Shaders)를 작성하는 방법을 학습한다.\n",
    "    - 세이더: OpenGL연산에 엄청난 유연성을 제공하는데, 텍스처가 입혀진 회전 폴리곤을 생성할 때 지오메트리를 변환하고 색상을 입히기 위해 GLSL 셰이더를 사용하는 방법을 보여준다.\n",
    "\n",
    "- PyOpenGL\n",
    "    - 파이썬은 Glue 언어 이다. C같은 언어로 작성된 라이브러리를 파이썬에서 사용할 수 있는 수많은 바인딩(Binding, 연결) 모듈이 존재한다.\n",
    "\n",
    "- OpenGL은 상태 기계이므로, ON과 OFF의 두가지 상태를 갖는 전기 스위치와 비슷한 면이 있다. 전기 스위치는 하나의 상태에서 다른 상태로 전환되면 새로운 상태를 유지한다. "
   ]
  },
  {
   "cell_type": "markdown",
   "metadata": {},
   "source": [
    "## Old OpenGL"
   ]
  },
  {
   "cell_type": "code",
   "execution_count": 7,
   "metadata": {},
   "outputs": [
    {
     "output_type": "stream",
     "name": "stdout",
     "text": "Requirement already satisfied: PyOpenGL in /Library/Frameworks/Python.framework/Versions/3.7/lib/python3.7/site-packages (3.1.5)\n"
    }
   ],
   "source": [
    "!pip install PyOpenGL"
   ]
  },
  {
   "cell_type": "code",
   "execution_count": 9,
   "metadata": {},
   "outputs": [],
   "source": [
    "import sys\n",
    "from OpenGL.GLUT import *\n",
    "from OpenGL.GL import *\n",
    "\n",
    "def display():\n",
    "   glClear (GL_COLOR_BUFFER_BIT|GL_DEPTH_BUFFER_BIT)\n",
    "   glColor3f (1.0, 1.0, 0.0)\n",
    "   glBegin(GL_QUADS)\n",
    "   glVertex3f (-0.5, -0.5, 0.0)\n",
    "   glVertex3f (0.5, -0.5, 0.0)\n",
    "   glVertex3f (0.5, 0.5, 0.0)\n",
    "   glVertex3f (-0.5, 0.5, 0.0)\n",
    "   glEnd()\n",
    "   glFlush ()\n",
    "\n",
    "glutInit(sys.argv)\n",
    "glutInitDisplayMode(GLUT_SINGLE|GLUT_RGB)\n",
    "glutInitWindowSize(400, 400)\n",
    "glutCreateWindow(\"oldgl\")\n",
    "glutDisplayFunc(display)\n",
    "glutMainLoop()"
   ]
  },
  {
   "cell_type": "markdown",
   "metadata": {},
   "source": [
    "https://en.wikipedia.org/wiki/Vertex_(geometry)"
   ]
  },
  {
   "cell_type": "code",
   "execution_count": 6,
   "metadata": {},
   "outputs": [],
   "source": [
    "from PIL import Image\n",
    "\n",
    "f = Image.open(\"book.png\")\n",
    "f.size\n",
    "W, H = f.size[0], f.size[1]"
   ]
  },
  {
   "cell_type": "code",
   "execution_count": 8,
   "metadata": {},
   "outputs": [
    {
     "output_type": "execute_result",
     "data": {
      "text/plain": "(534, 660)"
     },
     "metadata": {},
     "execution_count": 8
    }
   ],
   "source": [
    "W, H"
   ]
  },
  {
   "cell_type": "code",
   "execution_count": null,
   "metadata": {},
   "outputs": [],
   "source": []
  }
 ]
}