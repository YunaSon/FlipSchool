{
 "nbformat": 4,
 "nbformat_minor": 2,
 "metadata": {
  "language_info": {
   "name": "python",
   "codemirror_mode": {
    "name": "ipython",
    "version": 3
   },
   "version": "3.7.4-final"
  },
  "orig_nbformat": 2,
  "file_extension": ".py",
  "mimetype": "text/x-python",
  "name": "python",
  "npconvert_exporter": "python",
  "pygments_lexer": "ipython3",
  "version": 3,
  "kernelspec": {
   "name": "python37464bitpythondstutorialmasterconda2e680860d8e64dd5a02b60e1b1455fa7",
   "display_name": "Python 3.7.4 64-bit ('python-ds-tutorial-master': conda)"
  }
 },
 "cells": [
  {
   "cell_type": "markdown",
   "metadata": {},
   "source": [
    "## 1. deque"
   ]
  },
  {
   "cell_type": "code",
   "execution_count": 1,
   "metadata": {},
   "outputs": [],
   "source": [
    "from collections import deque"
   ]
  },
  {
   "cell_type": "code",
   "execution_count": 11,
   "metadata": {},
   "outputs": [
    {
     "data": {
      "text/plain": "deque([0, 1, 2, 3, 4, 5, 6, 7, 8, 9])"
     },
     "execution_count": 11,
     "metadata": {},
     "output_type": "execute_result"
    }
   ],
   "source": [
    "a = deque(range(10))\n",
    "a"
   ]
  },
  {
   "cell_type": "code",
   "execution_count": 10,
   "metadata": {},
   "outputs": [
    {
     "data": {
      "text/plain": "deque([9, 0, 1, 2, 3, 4, 5, 6, 7, 8])"
     },
     "execution_count": 10,
     "metadata": {},
     "output_type": "execute_result"
    }
   ],
   "source": [
    "a.rotate()\n",
    "a"
   ]
  },
  {
   "cell_type": "code",
   "execution_count": 12,
   "metadata": {},
   "outputs": [
    {
     "data": {
      "text/plain": "deque(['a', 0, 1, 2, 3, 4, 5, 6, 7, 8, 9])"
     },
     "execution_count": 12,
     "metadata": {},
     "output_type": "execute_result"
    }
   ],
   "source": [
    "a.appendleft('a')\n",
    "a"
   ]
  },
  {
   "cell_type": "code",
   "execution_count": 13,
   "metadata": {},
   "outputs": [
    {
     "data": {
      "text/plain": "deque(['a', 0, 1, 2, 3, 4, 5, 6, 7, 8, 9, 'b'])"
     },
     "execution_count": 13,
     "metadata": {},
     "output_type": "execute_result"
    }
   ],
   "source": [
    "a.append('b')\n",
    "a"
   ]
  },
  {
   "cell_type": "code",
   "execution_count": 14,
   "metadata": {},
   "outputs": [
    {
     "data": {
      "text/plain": "deque([0, 1, 2, 3, 4, 5, 6, 7, 8, 9, 'b'])"
     },
     "execution_count": 14,
     "metadata": {},
     "output_type": "execute_result"
    }
   ],
   "source": [
    "a.popleft()\n",
    "a"
   ]
  },
  {
   "cell_type": "code",
   "execution_count": 15,
   "metadata": {},
   "outputs": [
    {
     "data": {
      "text/plain": "deque([0, 1, 2, 3, 4, 5, 6, 7, 8, 9])"
     },
     "execution_count": 15,
     "metadata": {},
     "output_type": "execute_result"
    }
   ],
   "source": [
    "a.pop()\n",
    "a"
   ]
  },
  {
   "cell_type": "code",
   "execution_count": 16,
   "metadata": {},
   "outputs": [
    {
     "data": {
      "text/plain": "deque([9, 8, 7, 6, 5, 4, 3, 2, 1, 0])"
     },
     "execution_count": 16,
     "metadata": {},
     "output_type": "execute_result"
    }
   ],
   "source": [
    "a.reverse()\n",
    "a"
   ]
  },
  {
   "cell_type": "code",
   "execution_count": 17,
   "metadata": {},
   "outputs": [
    {
     "data": {
      "text/plain": "deque([9, 8, 7, 6, 5, 4, 3, 2, 1, 0, 'a', 'b', 'c'])"
     },
     "execution_count": 17,
     "metadata": {},
     "output_type": "execute_result"
    }
   ],
   "source": [
    "a.extend(['a','b','c'])\n",
    "a"
   ]
  },
  {
   "cell_type": "code",
   "execution_count": 18,
   "metadata": {},
   "outputs": [
    {
     "data": {
      "text/plain": "deque(['c', 'b', 'a', 9, 8, 7, 6, 5, 4, 3, 2, 1, 0, 'a', 'b', 'c'])"
     },
     "execution_count": 18,
     "metadata": {},
     "output_type": "execute_result"
    }
   ],
   "source": [
    "a.extendleft(['a','b','c'])\n",
    "a"
   ]
  },
  {
   "cell_type": "code",
   "execution_count": null,
   "metadata": {},
   "outputs": [],
   "source": [
    "import time\n",
    "start_time = time.clock()\n",
    "deque_list = deque()\n",
    "for i in range(1000):\n",
    "    for i in range(10000):\n",
    "        deque_list.append(i)\n",
    "        deque_list.pop()\n",
    "\n",
    "print(time.clock(), start_time, \"sec\")"
   ]
  },
  {
   "cell_type": "code",
   "execution_count": 19,
   "metadata": {},
   "outputs": [
    {
     "name": "stdout",
     "output_type": "stream",
     "text": "1.3611840000000006 sec\n"
    }
   ],
   "source": [
    "import time\n",
    "start_time = time.clock()\n",
    "deque_list = deque()\n",
    "for i in range(1000):\n",
    "    for i in range(10000):\n",
    "        deque_list.append(i)\n",
    "        deque_list.pop()\n",
    "end_time = time.clock()\n",
    "deltime = end_time - start_time\n",
    "print(deltime, \"sec\")"
   ]
  },
  {
   "cell_type": "code",
   "execution_count": 20,
   "metadata": {},
   "outputs": [
    {
     "name": "stdout",
     "output_type": "stream",
     "text": "3.6059859999999997 sec\n"
    }
   ],
   "source": [
    "import time\n",
    "start_time = time.clock()\n",
    "mylist = []\n",
    "for i in range(1000):\n",
    "    for i in range(10000):\n",
    "        mylist.append(i)\n",
    "        mylist.pop()\n",
    "end_time = time.clock()\n",
    "deltime = end_time - start_time\n",
    "print(deltime, \"sec\")"
   ]
  },
  {
   "cell_type": "markdown",
   "metadata": {},
   "source": [
    "## 2. OrderedDict"
   ]
  },
  {
   "cell_type": "code",
   "execution_count": 21,
   "metadata": {},
   "outputs": [],
   "source": [
    "from collections import OrderedDict"
   ]
  },
  {
   "cell_type": "code",
   "execution_count": 40,
   "metadata": {},
   "outputs": [],
   "source": [
    "d = {}\n",
    "d['x'] = 10\n",
    "d['a'] = 100\n",
    "d['b'] = 200\n",
    "d['c'] = 300\n",
    "d['d'] = 400\n",
    "d['l'] = 500"
   ]
  },
  {
   "cell_type": "code",
   "execution_count": 47,
   "metadata": {},
   "outputs": [
    {
     "name": "stdout",
     "output_type": "stream",
     "text": "x 10\na 100\nb 200\nc 300\nd 400\nl 500\n"
    }
   ],
   "source": [
    "for i,j in d.items():\n",
    "    print(i,j)"
   ]
  },
  {
   "cell_type": "code",
   "execution_count": 52,
   "metadata": {},
   "outputs": [
    {
     "name": "stdout",
     "output_type": "stream",
     "text": "a 100\nb 200\nc 300\nd 400\nl 500\nx 10\n"
    }
   ],
   "source": [
    "for k, v in OrderedDict(sorted(d.items(), key=lambda t:t[0])).items():\n",
    "    print(k, v)"
   ]
  },
  {
   "cell_type": "code",
   "execution_count": 53,
   "metadata": {},
   "outputs": [
    {
     "name": "stdout",
     "output_type": "stream",
     "text": "x 10\na 100\nb 200\nc 300\nd 400\nl 500\n"
    }
   ],
   "source": [
    "for k, v in OrderedDict(sorted(d.items(), key=lambda t:t[1])).items():\n",
    "    print(k, v)"
   ]
  },
  {
   "cell_type": "code",
   "execution_count": 58,
   "metadata": {},
   "outputs": [
    {
     "name": "stdout",
     "output_type": "stream",
     "text": "a 100\nb 200\nc 300\nd 400\nl 500\nx 10\n"
    }
   ],
   "source": [
    "for k, v in OrderedDict(sorted(d.items())).items():\n",
    "    print(k, v)"
   ]
  },
  {
   "cell_type": "markdown",
   "metadata": {},
   "source": [
    "## 3. defaultDict"
   ]
  },
  {
   "cell_type": "code",
   "execution_count": 60,
   "metadata": {},
   "outputs": [],
   "source": [
    "from collections import defaultdict"
   ]
  },
  {
   "cell_type": "code",
   "execution_count": 71,
   "metadata": {},
   "outputs": [
    {
     "data": {
      "text/plain": "defaultdict(None, {})"
     },
     "execution_count": 71,
     "metadata": {},
     "output_type": "execute_result"
    }
   ],
   "source": [
    "d = defaultdict()\n",
    "#d = defaultdict(lambda: 0)\n",
    "d"
   ]
  },
  {
   "cell_type": "code",
   "execution_count": 72,
   "metadata": {},
   "outputs": [
    {
     "data": {
      "text/plain": "defaultdict(<function __main__.<lambda>()>, {})"
     },
     "execution_count": 72,
     "metadata": {},
     "output_type": "execute_result"
    }
   ],
   "source": [
    "d = defaultdict(lambda: 0)\n",
    "d"
   ]
  },
  {
   "cell_type": "code",
   "execution_count": 69,
   "metadata": {},
   "outputs": [
    {
     "data": {
      "text/plain": "defaultdict(<function __main__.<lambda>()>, {'a': 0, 'first': 0})"
     },
     "execution_count": 69,
     "metadata": {},
     "output_type": "execute_result"
    }
   ],
   "source": [
    "d['a'] #키값은 없지만 일단 화면에 나옴, 초기값이 없을때 "
   ]
  },
  {
   "cell_type": "code",
   "execution_count": 80,
   "metadata": {},
   "outputs": [],
   "source": [
    "text = \"\"\"won't you celebrate with me what i have shaped into a kind of life? i had no model.\n",
    "born in babylon\n",
    "both nonwhite and woman\n",
    "what did i see to be except myself?\n",
    "i made it up\n",
    "here on this bridge between\n",
    "starshine and clay,\n",
    "my one hand holding tight\n",
    "my other hand; come celebrate\n",
    "with me that everyday\n",
    "something has tried to kill me\n",
    "and has failed.\"\"\""
   ]
  },
  {
   "cell_type": "code",
   "execution_count": 82,
   "metadata": {},
   "outputs": [
    {
     "data": {
      "text/plain": "68"
     },
     "execution_count": 82,
     "metadata": {},
     "output_type": "execute_result"
    }
   ],
   "source": [
    "textlist = text.lower().split()\n",
    "len(textlist)"
   ]
  },
  {
   "cell_type": "code",
   "execution_count": 91,
   "metadata": {},
   "outputs": [],
   "source": [
    "word = {}"
   ]
  },
  {
   "cell_type": "code",
   "execution_count": 92,
   "metadata": {},
   "outputs": [],
   "source": [
    "for i in textlist:\n",
    "    if i in word.keys():\n",
    "        word[i] +=1\n",
    "    else:\n",
    "        word[i] = 1"
   ]
  },
  {
   "cell_type": "code",
   "execution_count": 93,
   "metadata": {},
   "outputs": [
    {
     "data": {
      "text/plain": "{\"won't\": 1,\n 'you': 1,\n 'celebrate': 2,\n 'with': 2,\n 'me': 3,\n 'what': 2,\n 'i': 4,\n 'have': 1,\n 'shaped': 1,\n 'into': 1,\n 'a': 1,\n 'kind': 1,\n 'of': 1,\n 'life?': 1,\n 'had': 1,\n 'no': 1,\n 'model.': 1,\n 'born': 1,\n 'in': 1,\n 'babylon': 1,\n 'both': 1,\n 'nonwhite': 1,\n 'and': 3,\n 'woman': 1,\n 'did': 1,\n 'see': 1,\n 'to': 2,\n 'be': 1,\n 'except': 1,\n 'myself?': 1,\n 'made': 1,\n 'it': 1,\n 'up': 1,\n 'here': 1,\n 'on': 1,\n 'this': 1,\n 'bridge': 1,\n 'between': 1,\n 'starshine': 1,\n 'clay,': 1,\n 'my': 2,\n 'one': 1,\n 'hand': 1,\n 'holding': 1,\n 'tight': 1,\n 'other': 1,\n 'hand;': 1,\n 'come': 1,\n 'that': 1,\n 'everyday': 1,\n 'something': 1,\n 'has': 2,\n 'tried': 1,\n 'kill': 1,\n 'failed.': 1}"
     },
     "execution_count": 93,
     "metadata": {},
     "output_type": "execute_result"
    }
   ],
   "source": [
    "word"
   ]
  },
  {
   "cell_type": "code",
   "execution_count": 98,
   "metadata": {},
   "outputs": [],
   "source": [
    "dword = defaultdict(object)\n",
    "dword = defaultdict(lambda: 0)\n",
    "for i in textlist:\n",
    "    dword[i] += 1"
   ]
  },
  {
   "cell_type": "code",
   "execution_count": 99,
   "metadata": {},
   "outputs": [
    {
     "data": {
      "text/plain": "defaultdict(<function __main__.<lambda>()>,\n            {\"won't\": 1,\n             'you': 1,\n             'celebrate': 2,\n             'with': 2,\n             'me': 3,\n             'what': 2,\n             'i': 4,\n             'have': 1,\n             'shaped': 1,\n             'into': 1,\n             'a': 1,\n             'kind': 1,\n             'of': 1,\n             'life?': 1,\n             'had': 1,\n             'no': 1,\n             'model.': 1,\n             'born': 1,\n             'in': 1,\n             'babylon': 1,\n             'both': 1,\n             'nonwhite': 1,\n             'and': 3,\n             'woman': 1,\n             'did': 1,\n             'see': 1,\n             'to': 2,\n             'be': 1,\n             'except': 1,\n             'myself?': 1,\n             'made': 1,\n             'it': 1,\n             'up': 1,\n             'here': 1,\n             'on': 1,\n             'this': 1,\n             'bridge': 1,\n             'between': 1,\n             'starshine': 1,\n             'clay,': 1,\n             'my': 2,\n             'one': 1,\n             'hand': 1,\n             'holding': 1,\n             'tight': 1,\n             'other': 1,\n             'hand;': 1,\n             'come': 1,\n             'that': 1,\n             'everyday': 1,\n             'something': 1,\n             'has': 2,\n             'tried': 1,\n             'kill': 1,\n             'failed.': 1})"
     },
     "execution_count": 99,
     "metadata": {},
     "output_type": "execute_result"
    }
   ],
   "source": [
    "dword"
   ]
  },
  {
   "cell_type": "code",
   "execution_count": 101,
   "metadata": {},
   "outputs": [
    {
     "name": "stdout",
     "output_type": "stream",
     "text": "you 1\nwon't 1\nwoman 1\nwith 2\nwhat 2\nup 1\ntried 1\nto 2\ntight 1\nthis 1\nthat 1\nstarshine 1\nsomething 1\nshaped 1\nsee 1\nother 1\none 1\non 1\nof 1\nnonwhite 1\nno 1\nmyself? 1\nmy 2\nmodel. 1\nme 3\nmade 1\nlife? 1\nkind 1\nkill 1\nit 1\ninto 1\nin 1\ni 4\nholding 1\nhere 1\nhave 1\nhas 2\nhand; 1\nhand 1\nhad 1\nfailed. 1\nexcept 1\neveryday 1\ndid 1\ncome 1\nclay, 1\ncelebrate 2\nbridge 1\nboth 1\nborn 1\nbetween 1\nbe 1\nbabylon 1\nand 3\na 1\n"
    }
   ],
   "source": [
    "for i, v in OrderedDict(sorted(dword.items(), key=lambda t:t[0], reverse = True)).items():\n",
    "    print(i, v)"
   ]
  },
  {
   "cell_type": "markdown",
   "metadata": {},
   "source": [
    "## 4. Counter\n",
    "\n",
    "- sequence type의 element의 갯수를 dict형태로 변환"
   ]
  },
  {
   "cell_type": "code",
   "execution_count": 102,
   "metadata": {},
   "outputs": [],
   "source": [
    "from collections import Counter"
   ]
  },
  {
   "cell_type": "code",
   "execution_count": 103,
   "metadata": {},
   "outputs": [
    {
     "data": {
      "text/plain": "Counter({'h': 2,\n         'e': 1,\n         'l': 2,\n         'o': 2,\n         ' ': 1,\n         'p': 1,\n         'y': 1,\n         't': 1,\n         'n': 1})"
     },
     "execution_count": 103,
     "metadata": {},
     "output_type": "execute_result"
    }
   ],
   "source": [
    "c = Counter()\n",
    "c = Counter('hello python')\n",
    "c"
   ]
  },
  {
   "cell_type": "markdown",
   "metadata": {},
   "source": [
    "## 5. Named Tuple\n",
    "- Tuple형태로 data의 구조체를 저장\n",
    "- 저장되는 data의 변수를 dict형태로 저장"
   ]
  },
  {
   "cell_type": "code",
   "execution_count": 105,
   "metadata": {},
   "outputs": [
    {
     "name": "stdout",
     "output_type": "stream",
     "text": "33\n"
    }
   ],
   "source": [
    "from collections import namedtuple\n",
    "\n",
    "# Basic example\n",
    "Point = namedtuple('Point', ['x', 'y'])\n",
    "p = Point(11, y=22)\n",
    "print(p[0] + p[1])"
   ]
  },
  {
   "cell_type": "code",
   "execution_count": 106,
   "metadata": {},
   "outputs": [
    {
     "data": {
      "text/plain": "__main__.Point"
     },
     "execution_count": 106,
     "metadata": {},
     "output_type": "execute_result"
    }
   ],
   "source": [
    "Point"
   ]
  },
  {
   "cell_type": "code",
   "execution_count": 107,
   "metadata": {},
   "outputs": [
    {
     "name": "stdout",
     "output_type": "stream",
     "text": "11 22\n33\nPoint(x=11, y=22)\n"
    }
   ],
   "source": [
    "x, y = p\n",
    "print(x, y)\n",
    "print(p.x + p.y)\n",
    "print(Point(x=11, y=22))"
   ]
  },
  {
   "cell_type": "code",
   "execution_count": null,
   "metadata": {},
   "outputs": [],
   "source": []
  }
 ]
}