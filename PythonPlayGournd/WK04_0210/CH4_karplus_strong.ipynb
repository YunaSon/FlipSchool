{
 "nbformat": 4,
 "nbformat_minor": 2,
 "metadata": {
  "language_info": {
   "name": "python",
   "codemirror_mode": {
    "name": "ipython",
    "version": 3
   },
   "version": "3.7.4-final"
  },
  "orig_nbformat": 2,
  "file_extension": ".py",
  "mimetype": "text/x-python",
  "name": "python",
  "npconvert_exporter": "python",
  "pygments_lexer": "ipython3",
  "version": 3,
  "kernelspec": {
   "name": "python37464bit2ca5af9ea4dd4c818af2de9ba3f7b37b",
   "display_name": "Python 3.7.4 64-bit"
  }
 },
 "cells": [
  {
   "cell_type": "markdown",
   "execution_count": 1,
   "metadata": {},
   "outputs": [],
   "source": [
    "# 4장 karplus_strong"
   ]
  },
  {
   "cell_type": "markdown",
   "execution_count": null,
   "metadata": {},
   "outputs": [],
   "source": [
    "음악 소리의 주요 특징 중 하나는 음고(주파수)다. \n",
    "주파수는 초당 진동 수를 가리키며, 단위는 헤르츠[Hz]다\n",
    "\n",
    "예를 들어, 어쿠스틱 기타의 위쪽에서 세번째 줄은 146.83Hz의 주파수로 D음을 내는데, </br>\n",
    "이 소리는 컴퓨터에서 146.83Hz의 주파수를 갖는 정현파를 생성함으로써 비슷하게 만들어 낼 수 있다. "
   ]
  },
  {
   "cell_type": "markdown",
   "execution_count": 1,
   "metadata": {},
   "outputs": [
    {
     "ename": "SyntaxError",
     "evalue": "invalid syntax (<ipython-input-1-96ea8d24a617>, line 1)",
     "output_type": "error",
     "traceback": [
      "\u001b[0;36m  File \u001b[0;32m\"<ipython-input-1-96ea8d24a617>\"\u001b[0;36m, line \u001b[0;32m1\u001b[0m\n\u001b[0;31m    실제 기타 음은 다양한 강도의 혼합 주파수로 만들어 진다.</br>\u001b[0m\n\u001b[0m        ^\u001b[0m\n\u001b[0;31mSyntaxError\u001b[0m\u001b[0;31m:\u001b[0m invalid syntax\n"
     ]
    }
   ],
   "source": [
    "실제 기타 음은 다양한 강도의 혼합 주파수로 만들어 진다.</br> \n",
    "배음(倍音)은 하나의 음을 구성하는 여러 부분음들 중, 기본음(基本音)보다 높은 정수배의 진동수를 갖는 모든 상음(上音)들을 가리키는 말이다."
   ]
  },
  {
   "cell_type": "markdown",
   "execution_count": null,
   "metadata": {},
   "outputs": [],
   "source": [
    "## 0. 카플러스 스트롱 알고리즘\n",
    "따라서, 컴퓨터에서 현악기에서 만들어진 소리를 시뮬레이션 하기 위해서는 기본 주파수와 배음을 모두 생성해야 하는데, \n",
    "이때 필요한 알고리즘이 \"카플러스 스트롱\" 알고리즘 이다. "
   ]
  },
  {
   "cell_type": "markdown",
   "execution_count": null,
   "metadata": {},
   "outputs": [],
   "source": [
    "## 1. 목표\n",
    "- 카플러스 스트롱알고리즘을 사용하여 기타 음 5개를 생성한다. \n",
    "- 그리고 이 음들을 생성하는 데 사용된 알고리즘을 시각화하고, WAV파일로 저장한다. \n",
    "- 또한 임의로 재생하는 방법을 작성하고, 다음 작업을 수행하는 방법을 배운다. "
   ]
  },
  {
   "cell_type": "markdown",
   "execution_count": null,
   "metadata": {},
   "outputs": [],
   "source": [
    "1. 파이썬 deque 클래스를 사용해 원형 버퍼 구현하기\n",
    "2. numpy배열과 ufuncs의 사용\n",
    "3. pygame을 사용해 WAV 파일 재생하기\n",
    "4. matplotlib을 사용해 그래프 그리기\n",
    "5. 5음 음계 연주하기"
   ]
  },
  {
   "cell_type": "markdown",
   "execution_count": null,
   "metadata": {},
   "outputs": [],
   "source": [
    "## 2. 동작 원리\n",
    "- 양단에 견고하게 묶여 있는 줄을 시뮬레이션하기 위해 변위 값으로 이뤄진 원형 버퍼(ring buffer)를 이용한다. \n",
    "- 원형 버퍼(순환버퍼, 링버퍼): 고정길이의 버퍼로서 스스로 순환하는 자료구조 이다. 원형버퍼의 끝에 도달했을 때, 그 다음에 접근되는 요소는 원형버퍼의 첫번째 요소 이다. \n",
    "- 원형버퍼의 길이(N)는 N = S/f에 의해 정해지는데, S는 샘플링 레이트(sampling rate)이고 f는 주파수(frequency)다. \n",
    "- 원형버퍼는 deque(deck)을 이요해 구현한다."
   ]
  },
  {
   "cell_type": "markdown",
   "execution_count": 3,
   "metadata": {},
   "outputs": [],
   "source": [
    "### 2-1 원형버퍼 구현하기"
   ]
  },
  {
   "cell_type": "code",
   "execution_count": 12,
   "metadata": {},
   "outputs": [
    {
     "name": "stdout",
     "output_type": "stream",
     "text": "<class 'collections.deque'>\ndeque([0, 1, 2, 3, 4, 5, 6, 7, 8, 9])\n"
    }
   ],
   "source": [
    "from collections import deque\n",
    "d = deque(range(10))\n",
    "print(type(d))\n",
    "print(d) "
   ]
  },
  {
   "cell_type": "code",
   "execution_count": 13,
   "metadata": {},
   "outputs": [
    {
     "name": "stdout",
     "output_type": "stream",
     "text": "deque([0, 1, 2, 3, 4, 5, 6, 7, 8, 9, -1])\n"
    }
   ],
   "source": [
    "d.append(-1)\n",
    "print(d)"
   ]
  },
  {
   "cell_type": "code",
   "execution_count": 14,
   "metadata": {},
   "outputs": [
    {
     "data": {
      "text/plain": "0"
     },
     "execution_count": 14,
     "metadata": {},
     "output_type": "execute_result"
    }
   ],
   "source": [
    "d.popleft()"
   ]
  },
  {
   "cell_type": "code",
   "execution_count": 15,
   "metadata": {},
   "outputs": [
    {
     "name": "stdout",
     "output_type": "stream",
     "text": "deque([1, 2, 3, 4, 5, 6, 7, 8, 9, -1])\n"
    }
   ],
   "source": [
    "print(d)"
   ]
  },
  {
   "cell_type": "code",
   "execution_count": 30,
   "metadata": {},
   "outputs": [
    {
     "data": {
      "text/plain": "[0, 1, 2, 3, 4, 5, 6, 7, 8, 9]"
     },
     "execution_count": 30,
     "metadata": {},
     "output_type": "execute_result"
    }
   ],
   "source": [
    "a = list(range(10))\n",
    "a"
   ]
  },
  {
   "cell_type": "code",
   "execution_count": 31,
   "metadata": {},
   "outputs": [
    {
     "data": {
      "text/plain": "0"
     },
     "execution_count": 31,
     "metadata": {},
     "output_type": "execute_result"
    }
   ],
   "source": [
    "a.pop(0)"
   ]
  },
  {
   "cell_type": "code",
   "execution_count": 32,
   "metadata": {},
   "outputs": [
    {
     "data": {
      "text/plain": "[1, 2, 3, 4, 5, 6, 7, 8, 9]"
     },
     "execution_count": 32,
     "metadata": {},
     "output_type": "execute_result"
    }
   ],
   "source": [
    "a"
   ]
  },
  {
   "cell_type": "code",
   "execution_count": 33,
   "metadata": {},
   "outputs": [],
   "source": [
    "a.append(-1)"
   ]
  },
  {
   "cell_type": "code",
   "execution_count": 34,
   "metadata": {},
   "outputs": [
    {
     "data": {
      "text/plain": "[1, 2, 3, 4, 5, 6, 7, 8, 9, -1]"
     },
     "execution_count": 34,
     "metadata": {},
     "output_type": "execute_result"
    }
   ],
   "source": [
    "a"
   ]
  },
  {
   "cell_type": "markdown",
   "execution_count": 35,
   "metadata": {},
   "outputs": [],
   "source": [
    "### 2-2 카플러스 스트롱 알고리즘 구현하기\n",
    "- 오디오 데이터 생성"
   ]
  },
  {
   "cell_type": "code",
   "execution_count": 4,
   "metadata": {},
   "outputs": [],
   "source": [
    "# 주어진 주파수 음을 생성한다\n",
    "def generateNote(freq):\n",
    "    nSamples = 44100\n",
    "    sampleRate = 44100\n",
    "    N = int(sampleRate/freq)\n",
    "    #원형 버퍼를 초기화 한다\n",
    "    buf = deque([random.random() - 0.5 for i in range(N)])\n",
    "    #샘플 버퍼를 초기화 한다.\n",
    "    samples = np.array([0]*nSamples, 'float32')\n",
    "    for i in range(nSamples):\n",
    "        samples[i] = buf[0]\n",
    "        avg = 0.996*0.5*(buf[0] + buf[1])\n",
    "        buf.append(avg)\n",
    "        buf.popleft()\n",
    "    \n",
    "    #샘플을 16비트 값으로 반환하고, 다시 문자열로 변환한다.\n",
    "    #최댓값은 32767이다. \n",
    "    samples = np.array(samples*32767, 'int16')\n",
    "    return samples.tostring()"
   ]
  },
  {
   "cell_type": "markdown",
   "execution_count": 3,
   "metadata": {},
   "outputs": [],
   "source": [
    "### 2-3 WAV파일 기록하기\n",
    "- 오디오 데이터가 생성되었으니 파이썬 wave모듈을 사용해 WAV파일에 기록할 수 있다."
   ]
  },
  {
   "cell_type": "code",
   "execution_count": 5,
   "metadata": {},
   "outputs": [],
   "source": [
    "def writeWAVE(fname, data):\n",
    "    # 파일을 연다\n",
    "    file = wave.open(fname, 'wb')\n",
    "    # WAV파일을 위한 매개변수들..\n",
    "    nChannels = 1\n",
    "    sampleWidth = 2\n",
    "    frameRate = 44100\n",
    "    nFrames = 44100\n",
    "    # 매개변수들을 설정한다.\n",
    "    file.setparams((nchannels, sampleWidth, frameRate, nFrames, 'NONE', 'noncompressed'))\n",
    "    file.writeframes(data)\n",
    "    file.close()"
   ]
  },
  {
   "cell_type": "markdown",
   "execution_count": null,
   "metadata": {},
   "outputs": [],
   "source": [
    "### 2-4 pygame으로 WAV파일 재생하기\n",
    "- 이번에는 알고리즘에 의해 생성된 WAV파일을 재생하기 위해 파이썬 pygame모듈을 사용해 본다. "
   ]
  },
  {
   "cell_type": "code",
   "execution_count": null,
   "metadata": {},
   "outputs": [],
   "source": [
    "#WAV 파일을 재생한다\n",
    "class NotePlayer:\n",
    "    # 생성자\n",
    "    def __init__(self):\n",
    "        pygame.mixer.pre_init(44100, -16, 1, 2048)\n",
    "        pygame.init()\n",
    "        # 음으로 이뤄진 딕셔너리\n",
    "        self.notes = {}\n",
    "    # 음을 추가한다\n",
    "    def add(self, fileName):\n",
    "        self.notes[fileName] = pygame.mixer.Sound(fileName)\n",
    "    # 음을 재생한다\n",
    "    def play(self, fileName):\n",
    "        try:\n",
    "            self.notes[fileName].play()\n",
    "        except:\n",
    "            print(fileName + ' not found! ')\n",
    "    def playRandom(self):\n",
    "        \"\"\"음을 임의로 재생한다. \"\"\"\n",
    "        index = random.randint(0, len(self.notes)-1)\n",
    "        note = list(self.notes.values())[index]\n",
    "        note.play()\n",
    "        "
   ]
  },
  {
   "cell_type": "markdown",
   "execution_count": null,
   "metadata": {},
   "outputs": [],
   "source": [
    "### 2-5 main() 메소드"
   ]
  },
  {
   "cell_type": "code",
   "execution_count": 9,
   "metadata": {},
   "outputs": [
    {
     "name": "stderr",
     "output_type": "stream",
     "text": "usage: ipykernel_launcher.py [-h] [--display] [--play] [--piano]\nipykernel_launcher.py: error: unrecognized arguments: -f /Users/jooyoungson/Library/Jupyter/runtime/kernel-96827128-554b-4391-a236-ef03addc4f27.json\n"
    },
    {
     "ename": "SystemExit",
     "evalue": "2",
     "output_type": "error",
     "traceback": [
      "An exception has occurred, use %tb to see the full traceback.\n",
      "\u001b[0;31mSystemExit\u001b[0m\u001b[0;31m:\u001b[0m 2\n"
     ]
    }
   ],
   "source": [
    "import argparse\n",
    "import parser\n",
    "\n",
    "parser = argparse.ArgumentParser(description=\"Generating sounds with Karplus String Algorithm\")\n",
    "# 인수들을 추가한다\n",
    "parser.add_argument('--display', action='store_true', required=False)\n",
    "parser.add_argument('--play', action='store_true', required=False)\n",
    "parser.add_argument('--piano', action='store_true', required=False)\n",
    "args = parser.parse_args()\n",
    "\n",
    "# 플래그가 설정되어 있으면 플롯을 보여준다.\n",
    "if args.display:\n",
    "    dShowPlot = True\n",
    "    plt.ion()\n",
    "\n",
    "# 플레이어(음 재생기)를 생성한다.\n",
    "nplayer = NotePlayer()\n",
    "\n",
    "print('creaing notes...')\n",
    "for name, freq in list(pmNotes.items()):\n",
    "    fileName = name + '.wav'\n",
    "    if not os.path.exists(fileName) or args.display:\n",
    "        data = generateNote(freq)\n",
    "        print('creating ' + fileName + '...')\n",
    "        writeWAVE(fileName, data)\n",
    "    else:\n",
    "        print('fileName already created. skipping...')\n",
    "    \n",
    "    # 플레이어에 음을 추가한다. \n",
    "    nplayer.add(name + '.wav')\n",
    "\n",
    "    # 디스플레이 플래그가 설정되어 있으면 음을 재생한다. \n",
    "    if args.display:\n",
    "        nplayer.play(name + '.wav')\n",
    "        time.sleep(0.5)\n",
    "    \n",
    "    # 임의로 음을 재생한다.\n",
    "    if args.play:\n",
    "        while True:\n",
    "            try:\n",
    "                nplayer.palyRandom()\n",
    "                # 휴지 - 1부터 8비트\n",
    "                rest = np.ramdom.choice([1, 2, 4, 8], 1,\n",
    "                                        p = [0.15, 0.7, 0.1, 0.05])\n",
    "                time.sleep(0.25*rest[0])\n",
    "            except KeyboardInterrupt:\n",
    "                exit()"
   ]
  },
  {
   "cell_type": "markdown",
   "execution_count": null,
   "metadata": {},
   "outputs": [],
   "source": [
    "## 6. 전체 코드\n",
    "\n",
    "https://github.com/electronut/pp/blob/master/karplus/ks.py"
   ]
  }
 ]
}